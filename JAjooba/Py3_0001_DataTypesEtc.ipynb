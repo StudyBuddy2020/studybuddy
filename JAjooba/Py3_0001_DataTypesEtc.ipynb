{
 "cells": [
  {
   "cell_type": "code",
   "execution_count": 1,
   "metadata": {},
   "outputs": [
    {
     "name": "stdout",
     "output_type": "stream",
     "text": [
      "8\n"
     ]
    }
   ],
   "source": [
    "a=2\n",
    "b=3\n",
    "c=a**b\n",
    "print(c)"
   ]
  },
  {
   "cell_type": "code",
   "execution_count": 6,
   "metadata": {},
   "outputs": [
    {
     "name": "stdout",
     "output_type": "stream",
     "text": [
      "5\n"
     ]
    }
   ],
   "source": [
    "a=2\n",
    "b=3\n",
    "c=a+b\n",
    "print(c)"
   ]
  },
  {
   "cell_type": "code",
   "execution_count": 5,
   "metadata": {},
   "outputs": [
    {
     "name": "stdout",
     "output_type": "stream",
     "text": [
      "-1\n"
     ]
    }
   ],
   "source": [
    "a=2\n",
    "b=3\n",
    "c=a-b\n",
    "print(c)"
   ]
  },
  {
   "cell_type": "code",
   "execution_count": 10,
   "metadata": {},
   "outputs": [
    {
     "name": "stdout",
     "output_type": "stream",
     "text": [
      "9.0\n"
     ]
    }
   ],
   "source": [
    "a=27\n",
    "b=3\n",
    "c=a/b\n",
    "print(c)"
   ]
  },
  {
   "cell_type": "code",
   "execution_count": 13,
   "metadata": {},
   "outputs": [
    {
     "name": "stdout",
     "output_type": "stream",
     "text": [
      "2\n"
     ]
    }
   ],
   "source": [
    "a=29\n",
    "b=3\n",
    "c=a%b\n",
    "print(c)"
   ]
  },
  {
   "cell_type": "code",
   "execution_count": 34,
   "metadata": {},
   "outputs": [
    {
     "name": "stdout",
     "output_type": "stream",
     "text": [
      "4\n"
     ]
    }
   ],
   "source": [
    "a=13\n",
    "b=3\n",
    "c=a//b\n",
    "print(c)"
   ]
  },
  {
   "cell_type": "code",
   "execution_count": 35,
   "metadata": {},
   "outputs": [
    {
     "data": {
      "text/plain": [
       "int"
      ]
     },
     "execution_count": 35,
     "metadata": {},
     "output_type": "execute_result"
    }
   ],
   "source": [
    "type(a)"
   ]
  },
  {
   "cell_type": "markdown",
   "metadata": {},
   "source": [
    "print() function doesn't work with floats, really!\n",
    " i.e. print(r) was not giving me the answer!\n",
    " Well, it worked after I reopened the file"
   ]
  },
  {
   "cell_type": "code",
   "execution_count": null,
   "metadata": {},
   "outputs": [],
   "source": [
    "# print() function doesn't work with floats, really!\n",
    "# i.e. print(r) was not giving me the answer!\n",
    "# Well, it worked after I reopened the file\n",
    "p=0.25\n",
    "q=2\n",
    "r=p**q\n",
    "print(r)"
   ]
  },
  {
   "cell_type": "code",
   "execution_count": 55,
   "metadata": {},
   "outputs": [
    {
     "data": {
      "text/plain": [
       "float"
      ]
     },
     "execution_count": 55,
     "metadata": {},
     "output_type": "execute_result"
    }
   ],
   "source": [
    "type(r)"
   ]
  },
  {
   "cell_type": "code",
   "execution_count": 30,
   "metadata": {},
   "outputs": [
    {
     "name": "stdout",
     "output_type": "stream",
     "text": [
      "'Hello there!',I'm learning to code in Phyton. Trying double quotes and single quotes together\n"
     ]
    }
   ],
   "source": [
    "s='\"Hello there!\",I\\'m learning to code in Phyton. Trying double quotes and single quotes together'\n",
    "print(a)"
   ]
  },
  {
   "cell_type": "code",
   "execution_count": 32,
   "metadata": {},
   "outputs": [
    {
     "name": "stdout",
     "output_type": "stream",
     "text": [
      "'Hello there!',I'm learning to code in Phyton. Trying double quotes and single quotes together\n"
     ]
    }
   ],
   "source": [
    "s=\"'Hello there!',I\\'m learning to code in Phyton. Trying double quotes and single quotes together\"\n",
    "print(a)"
   ]
  },
  {
   "cell_type": "code",
   "execution_count": 6,
   "metadata": {},
   "outputs": [
    {
     "data": {
      "text/plain": [
       "['sample1', 'sample2']"
      ]
     },
     "execution_count": 6,
     "metadata": {},
     "output_type": "execute_result"
    }
   ],
   "source": [
    "s=['sample1','sample2']\n",
    "s"
   ]
  },
  {
   "cell_type": "code",
   "execution_count": 58,
   "metadata": {},
   "outputs": [
    {
     "data": {
      "text/plain": [
       "list"
      ]
     },
     "execution_count": 58,
     "metadata": {},
     "output_type": "execute_result"
    }
   ],
   "source": [
    "type(s)"
   ]
  },
  {
   "cell_type": "code",
   "execution_count": 72,
   "metadata": {},
   "outputs": [
    {
     "data": {
      "text/plain": [
       "601"
      ]
     },
     "execution_count": 72,
     "metadata": {},
     "output_type": "execute_result"
    }
   ],
   "source": [
    "n = 600\n",
    "n = n + 1\n",
    "n"
   ]
  },
  {
   "cell_type": "code",
   "execution_count": 62,
   "metadata": {},
   "outputs": [
    {
     "data": {
      "text/plain": [
       "\"'Hello there!',I'm learning to code in Phyton. Trying double quotes and single quotes together\""
      ]
     },
     "execution_count": 62,
     "metadata": {},
     "output_type": "execute_result"
    }
   ],
   "source": [
    "\"'Hello there!',I\\'m learning to code in Phyton. Trying double quotes and single quotes together\""
   ]
  },
  {
   "cell_type": "code",
   "execution_count": 63,
   "metadata": {},
   "outputs": [
    {
     "data": {
      "text/plain": [
       "\"Hello there!,I'm learning to code in Phyton. Trying double quotes and single quotes together\""
      ]
     },
     "execution_count": 63,
     "metadata": {},
     "output_type": "execute_result"
    }
   ],
   "source": [
    "'Hello there!,I\\'m learning to code in Phyton. Trying double quotes and single quotes together'"
   ]
  },
  {
   "cell_type": "code",
   "execution_count": 64,
   "metadata": {},
   "outputs": [
    {
     "data": {
      "text/plain": [
       "\"Hello there!,I'm learning to code in Phyton. Trying double quotes and single quotes together\""
      ]
     },
     "execution_count": 64,
     "metadata": {},
     "output_type": "execute_result"
    }
   ],
   "source": [
    "\"Hello there!,I'm learning to code in Phyton. Trying double quotes and single quotes together\""
   ]
  },
  {
   "cell_type": "code",
   "execution_count": 3,
   "metadata": {},
   "outputs": [
    {
     "name": "stdout",
     "output_type": "stream",
     "text": [
      "hello \tworld\n",
      "Look \n",
      " below\n",
      "spook \t right\n"
     ]
    }
   ],
   "source": [
    "print (\"hello \\tworld\")\n",
    "print (\"Look \\n below\")\n",
    "print (\"spook \\t right\")"
   ]
  },
  {
   "cell_type": "code",
   "execution_count": 5,
   "metadata": {},
   "outputs": [
    {
     "data": {
      "text/plain": [
       "16"
      ]
     },
     "execution_count": 5,
     "metadata": {},
     "output_type": "execute_result"
    }
   ],
   "source": [
    "len(\"test with spaces\")"
   ]
  },
  {
   "cell_type": "code",
   "execution_count": 8,
   "metadata": {},
   "outputs": [
    {
     "data": {
      "text/plain": [
       "'Sample Text for length'"
      ]
     },
     "execution_count": 8,
     "metadata": {},
     "output_type": "execute_result"
    }
   ],
   "source": [
    "my_var=\"Sample Text for length\"\n",
    "my_var"
   ]
  },
  {
   "cell_type": "code",
   "execution_count": 20,
   "metadata": {},
   "outputs": [
    {
     "data": {
      "text/plain": [
       "'e'"
      ]
     },
     "execution_count": 20,
     "metadata": {},
     "output_type": "execute_result"
    }
   ],
   "source": [
    "len(my_var)\n",
    "my_var[5]"
   ]
  },
  {
   "cell_type": "code",
   "execution_count": 21,
   "metadata": {},
   "outputs": [
    {
     "data": {
      "text/plain": [
       "'g'"
      ]
     },
     "execution_count": 21,
     "metadata": {},
     "output_type": "execute_result"
    }
   ],
   "source": [
    "my_var[len(my_var)-3]"
   ]
  },
  {
   "cell_type": "markdown",
   "metadata": {},
   "source": [
    "When I run the following code w/o print, it only returns the result of the last statement (i.e. g)\n",
    " So, I had to encapsulate each statements inside \"print\" to get BOTH the results displayed"
   ]
  },
  {
   "cell_type": "code",
   "execution_count": 24,
   "metadata": {},
   "outputs": [
    {
     "name": "stdout",
     "output_type": "stream",
     "text": [
      "e\n",
      "g\n"
     ]
    }
   ],
   "source": [
    "len(my_var)\n",
    "print(my_var[5])\n",
    "print(my_var[len(my_var)-3])"
   ]
  },
  {
   "cell_type": "code",
   "execution_count": 22,
   "metadata": {},
   "outputs": [
    {
     "data": {
      "text/plain": [
       "'a'"
      ]
     },
     "execution_count": 22,
     "metadata": {},
     "output_type": "execute_result"
    }
   ],
   "source": [
    "my_var[1]"
   ]
  },
  {
   "cell_type": "code",
   "execution_count": 23,
   "metadata": {},
   "outputs": [
    {
     "data": {
      "text/plain": [
       "'y'"
      ]
     },
     "execution_count": 23,
     "metadata": {},
     "output_type": "execute_result"
    }
   ],
   "source": [
    "str1 = \"abcdefghijklmnopqrstuvqxyz\"\n",
    "str1[-2]"
   ]
  },
  {
   "cell_type": "markdown",
   "metadata": {},
   "source": [
    "slice = [start:stop:jump]\n",
    " jump = i.e. jump to that position"
   ]
  },
  {
   "cell_type": "code",
   "execution_count": 35,
   "metadata": {},
   "outputs": [
    {
     "data": {
      "text/plain": [
       "'kl'"
      ]
     },
     "execution_count": 35,
     "metadata": {},
     "output_type": "execute_result"
    }
   ],
   "source": [
    "# slice = [start:stop:jump]jump = i.e. jump to that position\n",
    "\n",
    "str1[10:12:]"
   ]
  },
  {
   "cell_type": "code",
   "execution_count": 36,
   "metadata": {},
   "outputs": [
    {
     "data": {
      "text/plain": [
       "'abcdefghij'"
      ]
     },
     "execution_count": 36,
     "metadata": {},
     "output_type": "execute_result"
    }
   ],
   "source": [
    "str1[:10]"
   ]
  },
  {
   "cell_type": "code",
   "execution_count": 40,
   "metadata": {},
   "outputs": [
    {
     "data": {
      "text/plain": [
       "'kmo'"
      ]
     },
     "execution_count": 40,
     "metadata": {},
     "output_type": "execute_result"
    }
   ],
   "source": [
    "str1[10:15:2]"
   ]
  },
  {
   "cell_type": "code",
   "execution_count": 39,
   "metadata": {},
   "outputs": [
    {
     "data": {
      "text/plain": [
       "'aiqy'"
      ]
     },
     "execution_count": 39,
     "metadata": {},
     "output_type": "execute_result"
    }
   ],
   "source": [
    "str1[::8]"
   ]
  },
  {
   "cell_type": "markdown",
   "metadata": {},
   "source": [
    "This is how to reverse the string - use negative jump of 1 w/o start or stop"
   ]
  },
  {
   "cell_type": "code",
   "execution_count": 41,
   "metadata": {},
   "outputs": [
    {
     "data": {
      "text/plain": [
       "'zyxqvutsrqponmlkjihgfedcba'"
      ]
     },
     "execution_count": 41,
     "metadata": {},
     "output_type": "execute_result"
    }
   ],
   "source": [
    "# Everything from beginning P (0th)\n",
    "str1[::-1]"
   ]
  },
  {
   "cell_type": "markdown",
   "metadata": {},
   "source": [
    "Concatenating strings and integers, by casting"
   ]
  },
  {
   "cell_type": "code",
   "execution_count": 45,
   "metadata": {},
   "outputs": [
    {
     "name": "stdout",
     "output_type": "stream",
     "text": [
      "8long\n"
     ]
    }
   ],
   "source": [
    "k=8\n",
    "l=\"long\"\n",
    "print(str(k)+l)"
   ]
  },
  {
   "cell_type": "code",
   "execution_count": 52,
   "metadata": {},
   "outputs": [
    {
     "name": "stdout",
     "output_type": "stream",
     "text": [
      "11\n"
     ]
    }
   ],
   "source": [
    "int1=8\n",
    "str2=\"3\"\n",
    "add=int1+int(str2)\n",
    "print(add)"
   ]
  },
  {
   "cell_type": "code",
   "execution_count": 53,
   "metadata": {},
   "outputs": [
    {
     "data": {
      "text/plain": [
       "'This was preceeded by a comment line'"
      ]
     },
     "execution_count": 53,
     "metadata": {},
     "output_type": "execute_result"
    }
   ],
   "source": [
    "# This is a comment line\n",
    "\"This was preceeded by a comment line\""
   ]
  },
  {
   "cell_type": "code",
   "execution_count": 71,
   "metadata": {},
   "outputs": [
    {
     "name": "stdout",
     "output_type": "stream",
     "text": [
      "Was 'Underwood' and now it's 'Frank Blunderwood'\n"
     ]
    }
   ],
   "source": [
    "# This is string replacement using slicing and concatenation method\n",
    "fu=\"Underwood\"\n",
    "bu = \"Frank Blu\" + fu[1::]\n",
    "print(\"Was '\" + fu + \"' and now it's '\" + bu + \"'\")"
   ]
  },
  {
   "cell_type": "code",
   "execution_count": 98,
   "metadata": {},
   "outputs": [
    {
     "name": "stdout",
     "output_type": "stream",
     "text": [
      "fu = Underwood\n",
      "bu = Frank Blunderwood\n",
      "Underwood\n",
      "underwood\n",
      "FRANK BLUNDERWOOD\n",
      "Frank blunderwood\n",
      "underwood\n",
      "Find number of uppercase 'U' in 'fu' = 1\n",
      "Find number of lower 'u' in 'fu' = 0\n"
     ]
    }
   ],
   "source": [
    "# type the variable name followed by \".\" and \"tab key\", to see available functions\n",
    "print(\"fu = \" + fu)\n",
    "print(\"bu = \" + bu)\n",
    "print(fu.capitalize())\n",
    "print(fu.casefold())\n",
    "print(bu.upper())\n",
    "print(bu.capitalize())\n",
    "print(fu.lower())\n",
    "# count function takes one argument and it's the string for which the number of occurrences are counted\n",
    "# the string is case sensitive, as seen in the examples below\n",
    "print(\"Find number of uppercase 'U' in 'fu' = \" + str(fu.count('U')))\n",
    "print(\"Find number of lower 'u' in 'fu' = \" + str(fu.count('u')))"
   ]
  },
  {
   "cell_type": "code",
   "execution_count": 100,
   "metadata": {},
   "outputs": [],
   "source": [
    "# Need to explore the following alternatives for concatenations (in Python3)\n",
    "# it's more like filling the blanks\n",
    "# .formt() - preferred, maybe\n",
    "# f_strings"
   ]
  },
  {
   "cell_type": "code",
   "execution_count": 102,
   "metadata": {},
   "outputs": [
    {
     "name": "stdout",
     "output_type": "stream",
     "text": [
      "Claire Frank Underwood\n"
     ]
    }
   ],
   "source": [
    "print('Claire {} Underwood'.format('Frank'))"
   ]
  },
  {
   "cell_type": "code",
   "execution_count": 114,
   "metadata": {},
   "outputs": [
    {
     "name": "stdout",
     "output_type": "stream",
     "text": [
      "FirstName LastName: Sashi Umakant \n",
      "The brown, wicked, sly jackal was hunting for it's prey\n",
      "The wicked, brown, sly [fox] was hunting for it's prey\n"
     ]
    }
   ],
   "source": [
    "# Example of using multiple strings by their index positions\n",
    "print('FirstName LastName: {1} {0} ' .format('Umakant','Sashi') )\n",
    "print(\"The {0}, {2}, {1} jackal was hunting for it's prey\".format('brown','sly','wicked'))\n",
    "print(\"The {e}, {c}, {d} [{ani}] was hunting for it's prey\".format(c='brown',d='sly',e='wicked',ani='fox'))"
   ]
  },
  {
   "cell_type": "code",
   "execution_count": 150,
   "metadata": {},
   "outputs": [
    {
     "name": "stdout",
     "output_type": "stream",
     "text": [
      "The actual answer is 142.85714285714286\n",
      "The actual answer is 14.285714285714286\n",
      "The scale4 answer is 142.857\n",
      "The scale4 answer is 14.286\n",
      "The scale5 answer is 142.857\n",
      "The scale5 answer is 14.286\n",
      "The scale6 answer is 142.857\n",
      "The scale6 answer is 14.286\n",
      "The scale7 answer is 142.857\n",
      "The scale7 answer is  14.286\n",
      "The scale8 answer is  142.857\n",
      "The scale8 answer is   14.286\n",
      "The precise answer is    142.857\n",
      "The precise answer is     14.286\n"
     ]
    }
   ],
   "source": [
    "# examples of float format (scale and precision)\n",
    "# float format = [value:width/scale.precisionf]\n",
    "# scale = Total number of digits, including the decimal; so it pads with spaces as needed\n",
    "result1=1000/7\n",
    "result2=100/7\n",
    "# print(result)\n",
    "print(\"The actual answer is {}\".format(result1))\n",
    "print(\"The actual answer is {}\".format(result2))\n",
    "\n",
    "print(\"The scale4 answer is {r:4.3f}\".format(r=result1))\n",
    "print(\"The scale4 answer is {r:4.3f}\".format(r=result2))\n",
    "\n",
    "print(\"The scale5 answer is {r:5.3f}\".format(r=result1))\n",
    "print(\"The scale5 answer is {r:5.3f}\".format(r=result2))\n",
    "\n",
    "print(\"The scale6 answer is {r:6.3f}\".format(r=result1))\n",
    "print(\"The scale6 answer is {r:6.3f}\".format(r=result2))\n",
    "\n",
    "print(\"The scale7 answer is {r:7.3f}\".format(r=result1))\n",
    "print(\"The scale7 answer is {r:7.3f}\".format(r=result2))\n",
    "\n",
    "print(\"The scale8 answer is {r:8.3f}\".format(r=result1))\n",
    "print(\"The scale8 answer is {r:8.3f}\".format(r=result2))\n",
    "\n",
    "print(\"The precise answer is {r:10.3f}\".format(r=result1))\n",
    "print(\"The precise answer is {r:10.3f}\".format(r=result2))"
   ]
  },
  {
   "cell_type": "code",
   "execution_count": 156,
   "metadata": {},
   "outputs": [
    {
     "name": "stdout",
     "output_type": "stream",
     "text": [
      "Need to order \"latex\" gloves\n",
      "Used to own gloves made out of \"leather\"\n"
     ]
    }
   ],
   "source": [
    "# fstring example for concatenation; more like filling the blanks\n",
    "sample='\"latex\" gloves'\n",
    "material='\"leather\"'\n",
    "item='gloves'\n",
    "print(f\"Need to order {sample}\")\n",
    "print(f\"Used to own {item} made out of {material}\")"
   ]
  },
  {
   "cell_type": "code",
   "execution_count": 174,
   "metadata": {},
   "outputs": [
    {
     "name": "stdout",
     "output_type": "stream",
     "text": [
      "['This', 'is', 'a', 'lengthy', 'string']\n",
      "['FirstName', 'MiddleInitial', 'LastName', 'Email', 'Phone']\n",
      "['FirstName', 'MiddleInitial', 'LastName', 'Email|Phone']\n",
      "['FirstName', 'MiddleInitial', 'LastName|Email|Phone']\n",
      "['FirstName', 'MiddleInitial|LastName|Email|Phone']\n",
      "['FirstName|MiddleInitial|LastName|Email|Phone']\n"
     ]
    },
    {
     "ename": "ValueError",
     "evalue": "empty separator",
     "output_type": "error",
     "traceback": [
      "\u001b[1;31m---------------------------------------------------------------------------\u001b[0m",
      "\u001b[1;31mValueError\u001b[0m                                Traceback (most recent call last)",
      "\u001b[1;32m<ipython-input-174-2d8b10928bf6>\u001b[0m in \u001b[0;36m<module>\u001b[1;34m\u001b[0m\n\u001b[0;32m     13\u001b[0m \u001b[0mprint\u001b[0m\u001b[1;33m(\u001b[0m\u001b[0mlong_str2\u001b[0m\u001b[1;33m.\u001b[0m\u001b[0msplit\u001b[0m\u001b[1;33m(\u001b[0m\u001b[1;34m'|'\u001b[0m\u001b[1;33m,\u001b[0m\u001b[1;36m1\u001b[0m\u001b[1;33m)\u001b[0m\u001b[1;33m)\u001b[0m\u001b[1;33m\u001b[0m\u001b[1;33m\u001b[0m\u001b[0m\n\u001b[0;32m     14\u001b[0m \u001b[0mprint\u001b[0m\u001b[1;33m(\u001b[0m\u001b[0mlong_str2\u001b[0m\u001b[1;33m.\u001b[0m\u001b[0msplit\u001b[0m\u001b[1;33m(\u001b[0m\u001b[1;34m' '\u001b[0m\u001b[1;33m,\u001b[0m\u001b[1;36m1\u001b[0m\u001b[1;33m)\u001b[0m\u001b[1;33m)\u001b[0m\u001b[1;33m\u001b[0m\u001b[1;33m\u001b[0m\u001b[0m\n\u001b[1;32m---> 15\u001b[1;33m \u001b[0mprint\u001b[0m\u001b[1;33m(\u001b[0m\u001b[0mlong_str2\u001b[0m\u001b[1;33m.\u001b[0m\u001b[0msplit\u001b[0m\u001b[1;33m(\u001b[0m\u001b[1;34m''\u001b[0m\u001b[1;33m,\u001b[0m\u001b[1;36m3\u001b[0m\u001b[1;33m)\u001b[0m\u001b[1;33m)\u001b[0m\u001b[1;33m\u001b[0m\u001b[1;33m\u001b[0m\u001b[0m\n\u001b[0m",
      "\u001b[1;31mValueError\u001b[0m: empty separator"
     ]
    }
   ],
   "source": [
    "# Split example\n",
    "long_str1=\"This is a lengthy string\"\n",
    "print(long_str1.split())\n",
    "\n",
    "# Split example with parameters: separator and MaxSplit\n",
    "# Syntax: variable.split('sep',MaxSplit)\n",
    "# default separator is space\n",
    "# MaxSplit is the maximum number of splits you want i.e. how many cuts are applied to the string\n",
    "long_str2=\"FirstName|MiddleInitial|LastName|Email|Phone\"\n",
    "print(long_str2.split('|'))\n",
    "print(long_str2.split('|',3))\n",
    "print(long_str2.split('|',2))\n",
    "print(long_str2.split('|',1))\n",
    "print(long_str2.split(' ',1))\n",
    "print(long_str2.split('',3)) # needs a space as sep"
   ]
  },
  {
   "cell_type": "code",
   "execution_count": 181,
   "metadata": {},
   "outputs": [
    {
     "name": "stdout",
     "output_type": "stream",
     "text": [
      "Is 1>2 true or false? False\n",
      "Is 2==3 true or false? False\n",
      "Is a==b true or false? True\n"
     ]
    }
   ],
   "source": [
    "# Boolean operators example set1\n",
    "var1=2\n",
    "var2=2\n",
    "print(f\"Is 1>2 true or false? {1>2}\")\n",
    "print(f\"Is 2==3 true or false? {2==3}\")\n",
    "print(f\"Is var1==var2 true or false? {var1==var2}\")"
   ]
  },
  {
   "cell_type": "code",
   "execution_count": 195,
   "metadata": {},
   "outputs": [
    {
     "name": "stdout",
     "output_type": "stream",
     "text": [
      "Is age 15 considered teenage? True\n",
      "Is age 6 considered teenage? False\n"
     ]
    }
   ],
   "source": [
    "# Boolean operators example set2\n",
    "age1 = 15\n",
    "age2 = 6\n",
    "is_teen = age1>12 and age1<20\n",
    "not_teen = not(age2>12 or age2<20) # need another example for \"not\"\n",
    "print(f\"Is age {age1} considered teenage? {is_teen}\")\n",
    "print(f\"Is age {age2} considered teenage? {not_teen}\")"
   ]
  },
  {
   "cell_type": "code",
   "execution_count": 12,
   "metadata": {},
   "outputs": [
    {
     "name": "stdout",
     "output_type": "stream",
     "text": [
      "Yna PYnat tive PYnativ PYnativ\n",
      "Yna PYnat tive PYnativ evitanY\n"
     ]
    }
   ],
   "source": [
    "str1 = \"PYnative\"\n",
    "revstr1 = str1[::-1]\n",
    "print(str1[1:4], str1[:5], str1[4:], str1[0:-1], str1[:-1])\n",
    "print(str1[1:4], str1[:5], str1[4:], str1[0:-1], revstr1[0:-1])"
   ]
  },
  {
   "cell_type": "code",
   "execution_count": null,
   "metadata": {},
   "outputs": [],
   "source": []
  }
 ],
 "metadata": {
  "kernelspec": {
   "display_name": "Python 3",
   "language": "python",
   "name": "python3"
  },
  "language_info": {
   "codemirror_mode": {
    "name": "ipython",
    "version": 3
   },
   "file_extension": ".py",
   "mimetype": "text/x-python",
   "name": "python",
   "nbconvert_exporter": "python",
   "pygments_lexer": "ipython3",
   "version": "3.7.6"
  }
 },
 "nbformat": 4,
 "nbformat_minor": 4
}
