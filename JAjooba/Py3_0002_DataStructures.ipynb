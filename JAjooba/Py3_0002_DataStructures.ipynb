{
 "cells": [
  {
   "cell_type": "code",
   "execution_count": null,
   "metadata": {},
   "outputs": [],
   "source": [
    "# NOTE: Lists are defined inside square brackets - are mutable\n",
    "# NOTE: Dictionaries are defined inside curly brackets with key:value pairs\n",
    "# NOTE: Tuples are defined inside round brackets - are immutable\n",
    "# NOTE: Sets are defined as set() - can only have unique values; unordered"
   ]
  },
  {
   "cell_type": "code",
   "execution_count": null,
   "metadata": {},
   "outputs": [],
   "source": [
    "# List Data Type\n",
    "my_list1 = [\"apple\",\"orange\",\"banana\",1,2,13,2.25,3.35,4.45]\n",
    "my_list1"
   ]
  },
  {
   "cell_type": "code",
   "execution_count": null,
   "metadata": {},
   "outputs": [],
   "source": [
    "print(my_list1[2])\n",
    "print(my_list1[5])\n",
    "print(my_list1[2:])\n",
    "print(my_list1[2:9:3])\n",
    "print(my_list1[0:9:4])\n",
    "len(my_list1)"
   ]
  },
  {
   "cell_type": "code",
   "execution_count": null,
   "metadata": {},
   "outputs": [],
   "source": [
    "my_list2 = [\"red\",\"black\",\"purple\"]\n",
    "combo_list1 = my_list1 + my_list2\n",
    "print(combo_list1)"
   ]
  },
  {
   "cell_type": "code",
   "execution_count": null,
   "metadata": {},
   "outputs": [],
   "source": [
    "# Replacing elements in the list by position\n",
    "# this is possible as lists a mutable (can be changed)\n",
    "print(f\"Original List = {combo_list1}\")\n",
    "combo_list1[2]=\"peach\"\n",
    "print(\"Updated List = {}\".format(combo_list1))"
   ]
  },
  {
   "cell_type": "code",
   "execution_count": null,
   "metadata": {},
   "outputs": [],
   "source": [
    "# list extensions\n",
    "combo_list1.append(\"grey\")\n",
    "print(f\"Appended List = {combo_list1}\")\n",
    "combo_list1.pop()\n",
    "print(f\"Popped (empty) List = {combo_list1}\")\n",
    "combo_list1.pop(3)\n",
    "print(f\"Popped (index) List = {combo_list1}\")"
   ]
  },
  {
   "cell_type": "code",
   "execution_count": null,
   "metadata": {},
   "outputs": [],
   "source": [
    "# list extensions, contd...\n",
    "combo_list2 = [\"z\",\"b\",\"y\",\"p\",\"t\",\"x\"]\n",
    "combo_list3 = [99,34,3000,3,25,78,100,3999]\n",
    "print(f\"Original List2 = {combo_list2}\")\n",
    "print(f\"Original List3 = {combo_list3}\")\n",
    "combo_list2.sort()\n",
    "combo_list3.sort()\n",
    "print(f\"Sorted List2 = {combo_list2}\")\n",
    "print(f\"Sorted List3 = {combo_list3}\")\n",
    "type(combo_list2)\n",
    "type(combo_list3)\n",
    "total_list = combo_list2 + combo_list3\n",
    "print(f\"Total list is {total_list}\")\n",
    "# the following doesn't work. seems like sorting doesn't work with str and int together!?\n",
    "# Will test this type of sorting with a new list\n",
    "total_list.sort()\n",
    "total_sorted_list = total_list\n",
    "print(f\"Total combined list, after sorting is {total_sorted_list}\")"
   ]
  },
  {
   "cell_type": "code",
   "execution_count": null,
   "metadata": {},
   "outputs": [],
   "source": [
    "# sorting a mixed type list\n",
    "mixed_list = [\"z\",\"b\",\"y\",\"p\",\"t\",\"x\", 99,34,30.00,3,2.5,78,100,3999]\n",
    "mixed_list.sort()\n",
    "print(f\"Sorting mixed type list as {mixed_list}\")"
   ]
  },
  {
   "cell_type": "code",
   "execution_count": null,
   "metadata": {},
   "outputs": [],
   "source": [
    "# Sorting mixed data type using \"cast\" - option1\n",
    "cast_list = [\"z\",\"b\",\"y\",\"p\",\"t\",\"x\", str(99),str(34),str(30.00),str(3),str(2.5),str(78),str(100),str(3999)]\n",
    "cast_list.sort()\n",
    "print(f\"Sorting mixed type list as {cast_list}\")\n",
    "# Sorting mixed data type using \"cast\" - option2\n",
    "# this will not work, b/c a number can be cast as a str, but not vice-versa\n",
    "cast_list = [int(\"z\"),int(\"b\"), 99,34,30.00,3,2.5,78,100,3999]\n",
    "cast_list.sort()\n",
    "print(f\"Sorting mixed type list as {mixed_list}\")"
   ]
  },
  {
   "cell_type": "code",
   "execution_count": null,
   "metadata": {},
   "outputs": [],
   "source": [
    "# reversing a list\n",
    "rev_list = [\"z\",\"b\",\"y\",\"p\",\"t\",\"x\", 99,34,30.00,3,2.5,78,100,3999]\n",
    "rev_list.reverse()\n",
    "print(f\"reversed list is {rev_list}\")"
   ]
  },
  {
   "cell_type": "code",
   "execution_count": null,
   "metadata": {},
   "outputs": [],
   "source": [
    "# Dictionaries\n",
    "dict1 = {\"color1\":\"red\", \"color2\":\"green\"}\n",
    "print(dict1)\n",
    "print(dict1[\"color2\"])"
   ]
  },
  {
   "cell_type": "code",
   "execution_count": null,
   "metadata": {},
   "outputs": [],
   "source": [
    "# dictionary display is sorted automatically?\n",
    "# and the dictionary sorting works with diff data types also?\n",
    "dict2 = {\"red\",99,22.22}\n",
    "dict2"
   ]
  },
  {
   "cell_type": "code",
   "execution_count": null,
   "metadata": {},
   "outputs": [],
   "source": [
    "# having more fun with dictionaries\n",
    "# a dictionary that has key/value pair, where the value can be a list or another (nested) dictionary\n",
    "d = {\"key1\":\"string1\", \"key2\":[20,\"z\",3.55], \"key3\":{\"insidekey3\":101}}\n",
    "print(d)\n",
    "print(d['key3'])\n",
    "print(d['key2'][2])\n",
    "print(d['key3']['insidekey3'])"
   ]
  },
  {
   "cell_type": "code",
   "execution_count": null,
   "metadata": {},
   "outputs": [],
   "source": [
    "# appending a key to existing dict\n",
    "d[\"key4\"]=\"additional value\"\n",
    "print(d)"
   ]
  },
  {
   "cell_type": "code",
   "execution_count": null,
   "metadata": {},
   "outputs": [],
   "source": [
    "# replacing a key in existing dict\n",
    "d[\"key4\"]=\"changed additional value\"\n",
    "print(d)"
   ]
  },
  {
   "cell_type": "code",
   "execution_count": null,
   "metadata": {},
   "outputs": [],
   "source": [
    "# returning the keys and values in a dict\n",
    "print(f\"Dictionary d's keys are {d.keys()}\")\n",
    "print(f\"Dictionary d's values are {d.values()}\")\n",
    "print(f\"Dictionary d's items are {d.items()}\")"
   ]
  },
  {
   "cell_type": "code",
   "execution_count": null,
   "metadata": {},
   "outputs": [],
   "source": [
    "# Starting Tuples now\n",
    "# NOTE: Lists are defined inside square brackets\n",
    "# NOTE: Dictionaries are defined inside curly brackets with key:value pairs\n",
    "# NOTE: Tuples are defined inside round brackets\n",
    "# NOTE: Sets are defined as set()\n",
    "t = (1,2,3)\n",
    "l = [9.99,\"a\",\"b\",\"b\"]\n",
    "typet = type(t)\n",
    "lent = len(t)\n",
    "typel = type(l)\n",
    "lenl = len(l)\n",
    "print(f\"t is a {typet} with length of {lent} and values of {t}\")\n",
    "print(f\"l is a {typel} with length of {lenl} and values of {l}\")"
   ]
  },
  {
   "cell_type": "code",
   "execution_count": null,
   "metadata": {},
   "outputs": [],
   "source": [
    "# Methods in Tuples\n",
    "t1 = (\"a\",\"b\",\"e\",\"a\",\"k\",\"z\")\n",
    "print(t1.count(\"a\"))\n",
    "print(t1.index(\"a\"))\n",
    "print(t1.index(\"z\"))"
   ]
  },
  {
   "cell_type": "code",
   "execution_count": null,
   "metadata": {},
   "outputs": [],
   "source": [
    "# Replacing elements in the tuple by position is not possible\n",
    "# this is because tuples are immutable (can be changed)\n",
    "# the following will fail\n",
    "t1[2] = \"chg2\"\n",
    "t1"
   ]
  },
  {
   "cell_type": "code",
   "execution_count": null,
   "metadata": {},
   "outputs": [],
   "source": [
    "# Now last thing is about sets\n",
    "set1 = set()\n",
    "print(set1)"
   ]
  },
  {
   "cell_type": "code",
   "execution_count": null,
   "metadata": {},
   "outputs": [],
   "source": [
    "set1.add(10)\n",
    "print(set1)\n",
    "set1.clear()\n",
    "print(set1)\n",
    "# sets only take unique values\n",
    "set1.add(10)\n",
    "set1.add(10)\n",
    "set1.add(20)\n",
    "set1.add(30)\n",
    "print(set1)"
   ]
  },
  {
   "cell_type": "code",
   "execution_count": null,
   "metadata": {},
   "outputs": [],
   "source": [
    "# Defining a Tuple with repeating values\n",
    "# When that is converted to a set, only unqiue values remain\n",
    "t1 = (9,9,9,1,1,1,1,2,2,2,3,3,4,5,6,7,7,7,7,7)\n",
    "myset1 = set(t1)\n",
    "print(myset1)\n",
    "t2 = (\"z\",\"z\",\"a\",\"a\",\"a\",\"a\",\"a\",\"p\",\"p\",\"c\")\n",
    "myset2 = set(t2)\n",
    "print(myset2)"
   ]
  },
  {
   "cell_type": "code",
   "execution_count": null,
   "metadata": {},
   "outputs": [],
   "source": []
  }
 ],
 "metadata": {
  "kernelspec": {
   "display_name": "Python 3",
   "language": "python",
   "name": "python3"
  },
  "language_info": {
   "codemirror_mode": {
    "name": "ipython",
    "version": 3
   },
   "file_extension": ".py",
   "mimetype": "text/x-python",
   "name": "python",
   "nbconvert_exporter": "python",
   "pygments_lexer": "ipython3",
   "version": "3.7.6"
  }
 },
 "nbformat": 4,
 "nbformat_minor": 4
}
