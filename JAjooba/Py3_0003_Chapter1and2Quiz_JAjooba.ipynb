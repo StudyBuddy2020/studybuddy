{
 "cells": [
  {
   "cell_type": "code",
   "execution_count": null,
   "metadata": {},
   "outputs": [],
   "source": [
    "# 1.\tWrite an expression that equals to 200. For example, 100 + 100. \n",
    "# Trying using more than one operator and submit only one line of code. \n",
    "print(10*20)\n",
    "a=20000\n",
    "b=100\n",
    "c=a/b\n",
    "print(c)"
   ]
  },
  {
   "cell_type": "code",
   "execution_count": null,
   "metadata": {},
   "outputs": [],
   "source": [
    "# 2.\tMy phone bill for the last three months has been $35, $40, and $54. \n",
    "# What is the average monthly electricity bill over the three-month period?\n",
    "# Write an expression to calculate the mean and use print () to view the result.\n",
    "mean_list = [35,45,54]\n",
    "mean_list_len = len(mean_list)\n",
    "mean_of_list = (mean_list[0] + mean_list[2] + mean_list[2])/mean_list_len\n",
    "print(f\"Average monthly electricity bill = {mean_of_list}\")"
   ]
  },
  {
   "cell_type": "code",
   "execution_count": null,
   "metadata": {},
   "outputs": [],
   "source": [
    "# 3.\tWhich of these lines of Python code are well formatted? \n",
    "# How would you improve the readability of the codes that don't use good formatting? (Choose all that apply)\n",
    "\n",
    "# Original\n",
    "print(((3+ 32))+ -15//2)\n",
    "# Improved\n",
    "print(3 + 32 + -15//2)\n",
    "\n",
    "# Original - this is well formatted\n",
    "print((17 - 6) % (5 + 2))\n",
    "# I'd add some spaces for ease of reading\n",
    "print((17 - 6) % (5 + 2))\n",
    "\n",
    "# Original - this is well formatted\n",
    "print ((1 + 2 + 4) / 13)\n",
    "\n",
    "# Original - this is well formatted\n",
    "print(4/2 - 7*7)\n"
   ]
  },
  {
   "cell_type": "code",
   "execution_count": null,
   "metadata": {},
   "outputs": [],
   "source": [
    "# 4.\tNow it is your turn to work with variables. \n",
    "# The comments in this quiz (the lines that begin with #) have instructions for creating and modifying variables. \n",
    "# After each comment write a line of code that implements the instruction.\n",
    "# Note that this code uses scientific notations to define large numbers. \n",
    "# 4.445e8 is equal to 4.445 * 10 ** 8 which is equal to 444500000.0.\n",
    "\n",
    "# The current volume of a water reservoir (in cubic metres)\n",
    "reservoir_volume = 4.445e8\n",
    "\n",
    "# The amount of rainfall from a storm (in cubic metres)\n",
    "rainfall = 5e6\n",
    "\n",
    "print(f\"reservoir volume = {reservoir_volume} cubic-meters\")\n",
    "print(f\"rainfall from storm = {rainfall} cubic-meters\")\n",
    "\n",
    "# decrease the rainfall variable by 10% to account for runoff\n",
    "rainfall = rainfall * 0.90\n",
    "print(f\"rainfall from storm after runoff = {rainfall} cubic-meters\")\n",
    "\n",
    "# add the rainfall variable to the reservoir_volume variable\n",
    "reservoir_volume = reservoir_volume + rainfall\n",
    "print(f\"Total water in the reservoir after rainfall and runoff = {reservoir_volume} cubic-meters\")\n",
    "\n",
    "# increase reservoir_volume by 5% to account for stormwater that flows\n",
    "# into the reservoir in the days following the storm\n",
    "reservoir_volume = reservoir_volume * 1.05\n",
    "print(f\"Total water in the reservoir after storm water addition = {reservoir_volume} cubic-meters\")\n",
    "\n",
    "# decrease reservoir_volume by 5% to account for evaporation\n",
    "reservoir_volume = reservoir_volume * 0.95\n",
    "print(f\"Total water in the reservoir after evaporation = {reservoir_volume} cubic-meters\")\n",
    "\n",
    "# subtract 2.5e5 cubic metres from reservoir_volume to account for water\n",
    "# that's piped to arid regions.\n",
    "reservoir_volume = reservoir_volume - 2.5e5\n",
    "print(f\"Total water in the reservoir after supplying to arid regions = {reservoir_volume} cubic-meters\")\n",
    "\n",
    "# print the new value of the reservoir_volume variable\n",
    "print(f\"Remaining water in the reservoir = {reservoir_volume} cubic-meters\")\n"
   ]
  },
  {
   "cell_type": "code",
   "execution_count": null,
   "metadata": {},
   "outputs": [],
   "source": [
    "# 5.\tHow does changing the value of a variable affect another variable that was defined in terms of it? \n",
    "# Let's look at an example.\n",
    "# We're intentionally not providing a place to execute the code here, \n",
    "# because we want to help you practice the important skill of walking through lines of code by hand.\n",
    "# Each line of code executes in order, one at a time, with control going from one line to the next.\n",
    "# >>> carrots = 24\n",
    "# >>> rabbits = 8\n",
    "# >>> crs_per_rab = carrots/rabbits\n",
    "\n",
    "# Now we add a new 4th line to this code, that assigns a new value to the rabbits variable:\n",
    "# >>> rabbits = 12\n",
    "# If we now add this new 5th line of code to the above, what will the output be?\n",
    "# >>> print(crs_per_rab) \n",
    "#\t0.5\n",
    "#\t2.0\n",
    "#\t3.0\n",
    "#\tNone of the above\n",
    "\n",
    "# Answer:\n",
    "# the value of crs_per_rab doesn't change since the equation hasn't been re-executed\n",
    "# after the change in value of the rabbit variable"
   ]
  },
  {
   "cell_type": "code",
   "execution_count": null,
   "metadata": {},
   "outputs": [],
   "source": [
    "# 6.\tIn Python 3 what is the output of ½?\n",
    "\n",
    "# Answer: should be 0.5"
   ]
  },
  {
   "cell_type": "code",
   "execution_count": null,
   "metadata": {},
   "outputs": [],
   "source": [
    "# 7.\tGuess the correct output of following code.\n",
    "# str1 = \"PYnative\"\n",
    "# print(str1[1:4], str1[:5], str1[4:], str1[0:-1], str1[:-1])\n",
    "  \n",
    "#  \tPYn PYnat ive PYnativ vitanYP\n",
    "#  \tYna PYnat tive PYnativ vitanYP\n",
    "#  \tYna PYnat tive PYnativ PYnativ\n",
    "\n",
    "# Answer\n",
    "# 1st set: Has to start with Y (1st) and stop at a (4th)\n",
    "# 2nd set: Everything from beginning P (0th) until t (5th)\n",
    "# 3rd set: Everthing from t (4th) until the end e\n",
    "# 4th set: Start from beginning P (0th) until v (-1)\n",
    "# 5th set: Everything from beginning P (0th) until v (-1)\n",
    "# Correct Answer is   \tYna PYnat tive PYnativ PYnativ\n",
    "\n",
    "# NOTE: to get the reverse of the last set \n",
    "str1 = \"PYnative\"\n",
    "revstr1 = str1[::-1]\n",
    "print(str1[1:4], str1[:5], str1[4:], str1[0:-1], str1[:-1])\n",
    "print(str1[1:4], str1[:5], str1[4:], str1[0:-1], str1[::-1])\n",
    "print(str1[1:4], str1[:5], str1[4:], str1[0:-1], revstr1[0:-1])\n",
    "\n"
   ]
  },
  {
   "cell_type": "code",
   "execution_count": null,
   "metadata": {},
   "outputs": [],
   "source": [
    "# 8.\tPython does not support a character type; a single character is treated as strings of length one.\n",
    "\n",
    "#  False\n",
    "#  True\n",
    "\n",
    "# Answer\n",
    "# True - Python uses string (str) for defining text (vs. int)"
   ]
  },
  {
   "cell_type": "code",
   "execution_count": null,
   "metadata": {},
   "outputs": [],
   "source": [
    "# 9.\tList all the python string methods with their definition. You can refer the internet for this.  \n",
    "\n",
    "# Source: https://www.programiz.com/python-programming/strings-method\n",
    "# All the methods defined in Python 3 are listed below along with brief descriptions.\n",
    "# \n",
    "# Python String Methods\n",
    "# capitalize() - Returns the string with first letter capitalized and the rest lowercased.\n",
    "# casefold() - Returns a lowercase string, generally used for caseless matching. This is more aggressive than the lower() method.\n",
    "# center() - Center the string within the specified width with optional fill character.\n",
    "# count() - Count the non-overlapping occurrence of supplied substring in the string.\n",
    "# encode() - Return the encoded version of the string as a bytes object.\n",
    "# endswith() - Returns ture if the string ends with the supplied substring.\n",
    "# expandtabs() - Return a string where all the tab characters are replaced by the supplied number of spaces.\n",
    "# find() - Return the index of the first occurrence of supplied substring in the string. Return -1 if not found.\n",
    "# format() - Format the given string.\n",
    "# format_map() - Format the given string.\n",
    "# index() - Return the index of the first occurrence of supplied substring in the string. Raise ValueError if not found.\n",
    "# isalnum() - Return true if the string is non-empty and all characters are alphanumeric.\n",
    "# isalpha() - Return true if the string is non-empty and all characters are alphabetic.\n",
    "# isdecimal() - Return true if the string is non-empty and all characters are decimal characters.\n",
    "# isdigit() - Return true if the string is non-empty and all characters are digits.\n",
    "# isidentifier() - Return true if the string is a valid identifier.\n",
    "# islower() - Return true if the string has all lowercased characters and at least one is cased character.\n",
    "# isnumeric() - Return true if the string is non-empty and all characters are numeric.\n",
    "# isprintable() - Return true if the string is empty or all characters are printable.\n",
    "# isspace() - Return true if the string is non-empty and all characters are whitespaces.\n",
    "# istitle() - Return true if the string is non-empty and titlecased.\n",
    "# isupper() - Return true if the string has all uppercased characters and at least one is cased character.\n",
    "# join() - Concatenate strings in the provided iterable with separator between them being the string providing this method.\n",
    "# ljust() - Left justify the string in the provided width with optional fill characters.\n",
    "# lower() - Return a copy of all lowercased string.\n",
    "# lstrip() - Return a string with provided leading characters removed.\n",
    "# maketrans() - Return a translation table.\n",
    "# partition() - Partition the string at first occurrence of substring (separator) and return a 3-tuple with part before separator, the separator and part after separator.\n",
    "# replace() - Replace all old substrings with new substrings.\n",
    "# rfind() - Return the index of the last occurrence of supplied substring in the string. Return -1 if not found.\n",
    "# rindex() - Return the index of the last occurrence of supplied substring in the string. Raise ValueError if not found.\n",
    "# rjust() - Right justify the string in the provided width with optional fill characters.\n",
    "# rpartition() - Partition the string at last occurrence of substring (separator) and return a 3-tuple with part before separator, the separator and part after separator.\n",
    "# rsplit() - Return a list of words delimited by the provided subtring. If maximum number of split is specified, it is done from the right.\n",
    "# rstrip() - Return a string with provided trailing characters removed.\n",
    "# split() - Return a list of words delimited by the provided subtring. If maximum number of split is specified, it is done from the left.\n",
    "# splitlines() - Return a list of lines in the string.\n",
    "# startswith() - Return true if the string starts with the provided substring.\n",
    "# strip() - Return a string with provided leading and trailing characters removed.\n",
    "# swapcase() - Return a string with lowercase characters converted to uppercase and vice versa.\n",
    "# title() - Return a title (first character of each word capitalized, others lowercased) cased string.\n",
    "# translate() - Return a copy of string that has been mapped according to the provided map.\n",
    "# upper() - Return a copy of all uppercased string.\n",
    "# zfill() - Return a numeric string left filled with zeros in the provided width."
   ]
  },
  {
   "cell_type": "code",
   "execution_count": null,
   "metadata": {},
   "outputs": [],
   "source": [
    "# 10.\tWrite one line of code giving an example of indexing.\n",
    "# For example ‘Hello World’[0] returns ‘H’. \n",
    "# Make any two examples of your own one with normal indexing and other one with reverse indexing. \n",
    "my_var=\"Python Quiz and Answer\"\n",
    "print(my_var[7])\n",
    "print(my_var[-6])"
   ]
  },
  {
   "cell_type": "code",
   "execution_count": null,
   "metadata": {},
   "outputs": [],
   "source": [
    "# 11.\tReverse this ‘This is an easy quiz’ sentence without using string reverse method. \n",
    "\n",
    "# Answer\n",
    "print(\"This is an easy quiz\"[::-1])\n",
    "\n",
    "# What is the method to reverse a string?"
   ]
  },
  {
   "cell_type": "code",
   "execution_count": null,
   "metadata": {},
   "outputs": [],
   "source": [
    "# 12.\tUse slicing techniques with providing 4 different examples \n",
    "# each one using different slicing techniques learned in the video. \n",
    "\n",
    "str_ja = \"String for slicing examples\"\n",
    "print(str_ja[0:6])\n",
    "print(str_ja[:10])\n",
    "print(str_ja[12:])\n",
    "print(str_ja[:-1])\n",
    "print(str_ja[::-1])"
   ]
  },
  {
   "cell_type": "code",
   "execution_count": null,
   "metadata": {},
   "outputs": [],
   "source": [
    "# 13.\tAre strings immutable?\n",
    "\n",
    "# Answer: No\n",
    "# So, I was wrong.\n",
    "# This article explains things nicely:\n",
    "# https://medium.com/datadriveninvestor/mutable-and-immutable-python-2093deeac8d9"
   ]
  },
  {
   "cell_type": "code",
   "execution_count": null,
   "metadata": {},
   "outputs": [],
   "source": [
    "# 14.\tChange the name of the two strings from ‘Hero’ to ‘Zero’ using the slicing and string concatenation method. \n",
    "# Use least lines of code as you can.\n",
    "\n",
    "# Answer\n",
    "H = \"Hero\"\n",
    "Z = \"Z\" + H[1::]\n",
    "print(\"Was '\" + H + \"' and now it's '\" + Z + \"'\")"
   ]
  },
  {
   "cell_type": "code",
   "execution_count": null,
   "metadata": {},
   "outputs": [],
   "source": [
    "# 15.\tWrite two expressions using format() method and f-string method. \n",
    "# format method\n",
    "print('FirstName LastName: {1} {0} ' .format('Umakant','Sashi') )\n",
    "print(\"We only have these fruits left {0}, {2}, {1} at home\".format('bananas','peaches','apples'))\n",
    "\n",
    "# f-string method\n",
    "order=\"trash bags\"\n",
    "throw=\"garbage\"\n",
    "print(f\"Need to order {order}\")\n",
    "print(f\"Need to take out {throw}\")"
   ]
  },
  {
   "cell_type": "code",
   "execution_count": null,
   "metadata": {},
   "outputs": [],
   "source": [
    "# 16.\tWrite code to compare these densities. Is the population of San Francisco more dense than that of Rio de Janeiro? Print True if it is and False if not.\n",
    "\n",
    "# sf_population, sf_area = 864816, 231.89\n",
    "# rio_population, rio_area = 6453682, 486.5\n",
    "\n",
    "# san_francisco_pop_density = sf_population/sf_area\n",
    "# rio_de_janeiro_pop_density = rio_population/rio_area\n",
    "\n",
    "# Write code that prints True if San Francisco is denser than Rio, and False otherwise\n",
    "sf_dict = {\"sf_pop\":864816,\"sf_area\":231.89}\n",
    "rio_dict = {\"rio_pop\":6453682, \"rio_area\":486.5}\n",
    "sf_pop_density = sf_dict[\"sf_pop\"]/sf_dict[\"sf_area\"]\n",
    "rio_pop_density = rio_dict[\"rio_pop\"]/rio_dict[\"rio_area\"]\n",
    "print(f\"sf_pop_density is {sf_pop_density} \")\n",
    "print(f\"rio_pop_density is {rio_pop_density} \")\n",
    "compare = sf_pop_density > sf_pop_density\n",
    "print(f\"SF's pop-den is greater than Rio's pop-den - true or false? {compare}\")\n",
    "\n"
   ]
  },
  {
   "cell_type": "code",
   "execution_count": null,
   "metadata": {},
   "outputs": [],
   "source": [
    "# 17.\tGive examples of all the datatypes you learned.\n",
    "\n",
    "# Examples of DataTypes are\n",
    "str1 = \"apples\"\n",
    "nbr = 13\n"
   ]
  },
  {
   "cell_type": "code",
   "execution_count": null,
   "metadata": {},
   "outputs": [],
   "source": [
    "# 18.\tWhat function do you use to find length of a string?\n",
    "\n",
    "# Answer: len\n",
    "len(str1)"
   ]
  },
  {
   "cell_type": "code",
   "execution_count": null,
   "metadata": {},
   "outputs": [],
   "source": [
    "# 19.\tWhat type does this object have? \"hippo\" *12\n",
    "type(\"hippo\" *12)\n",
    "\n",
    "# Answer: str"
   ]
  },
  {
   "cell_type": "code",
   "execution_count": null,
   "metadata": {},
   "outputs": [],
   "source": [
    "# 20.\tCreate an example of list, with mixed data types. The answer should be just one line of code. \n",
    "\n",
    "list = [12,23,43,\"sdf\",\"dfgdf\"]\n",
    "list"
   ]
  },
  {
   "cell_type": "code",
   "execution_count": null,
   "metadata": {},
   "outputs": [],
   "source": [
    "# 21.\tIf list1 = [1,2,3,4,5].\n",
    "\n",
    "# What is the output of list1.pop ()? \n",
    "# Answer: 5\n",
    "list1 = [1,2,3,4,5]\n",
    "print(list1.pop())\n",
    "\n",
    "# And what would be the result of list1[1:]?\n",
    "# Answer: 2,3,4 (after pop)\n",
    "# Answer: 2,3,4,5 (before pop)\n",
    "print(list1[1:])"
   ]
  },
  {
   "cell_type": "code",
   "execution_count": null,
   "metadata": {},
   "outputs": [],
   "source": [
    "# 22.\tCreate a Dictionary where all the keys are strings and values are integers.\n",
    "\n",
    "# Answer\n",
    "dict_int = {\"sf_pop\":864816,\"sf_area\":231}\n",
    "dict_int"
   ]
  },
  {
   "cell_type": "code",
   "execution_count": null,
   "metadata": {},
   "outputs": [],
   "source": [
    "# 23.\tCreate a dictionary within a dictionary and write the code to find the values in the inside dictionary. \n",
    "dict_nest = {\"dict_p\":{\"dict_c\":\"in_value\"}}\n",
    "print(dict_nest[\"dict_p\"][\"dict_c\"])"
   ]
  },
  {
   "cell_type": "code",
   "execution_count": null,
   "metadata": {},
   "outputs": [],
   "source": [
    "# 24.\tDo dictionaries retain order and are they a sequence?\n",
    "\n",
    "# Answer\n",
    "# No, dictionaries don't retain order and they are not a sequence."
   ]
  },
  {
   "cell_type": "code",
   "execution_count": null,
   "metadata": {},
   "outputs": [],
   "source": [
    "# 25.\tGiven d = { ‘k1’:[1,2,3]}.\n",
    "# What is the output of d[‘k1’][3]?\n",
    "\n",
    "d = { 'k1':[1,2,3]}\n",
    "d['k1'][3]\n",
    "print(f\"What is the output of d[‘k1’][3]? It is 'list index out of range' \")"
   ]
  },
  {
   "cell_type": "code",
   "execution_count": null,
   "metadata": {},
   "outputs": [],
   "source": [
    "# 26.\tAre dictionaries immutable?\n",
    "# Answer: Dictionaries are NOT immutable"
   ]
  },
  {
   "cell_type": "code",
   "execution_count": null,
   "metadata": {},
   "outputs": [],
   "source": [
    "# 27.\tDo tuples have lots of methods associated with them?\n",
    "# Answer: No Tuples only have couple of methods associated to them\n",
    "tup = (232,\"hjhgj\")\n",
    "print(tup.count(2))\n",
    "print(tup.index)\n",
    "tup.count"
   ]
  },
  {
   "cell_type": "code",
   "execution_count": null,
   "metadata": {},
   "outputs": [],
   "source": [
    "# 28.\tWhen is the best time to use tuples over lists?\n",
    "#Answer: When you want the values stored persistently in their respective position"
   ]
  },
  {
   "cell_type": "code",
   "execution_count": null,
   "metadata": {},
   "outputs": [],
   "source": [
    "# 29.\tAre tuples immutable?\n",
    "#Answer: Yes, Tuples are immutable"
   ]
  },
  {
   "cell_type": "code",
   "execution_count": null,
   "metadata": {},
   "outputs": [],
   "source": [
    "# 30.\tWhich of the following is a tuple? \n",
    "\n",
    "# a.\t[1,2,3]\n",
    "# b.\t(1,2,[1,2,3])\n",
    "# c.\t{1,2,4,)\n",
    "# d.\tNone of the above?\n",
    "\n",
    "b =(1,2,[1,2,3])\n",
    "type(b)\n",
    "\n",
    "# Answer: b, is a Tuple, as it has round bracket"
   ]
  },
  {
   "cell_type": "code",
   "execution_count": null,
   "metadata": {},
   "outputs": [],
   "source": [
    "# 31.\tWrite an expression to turn the string ‘Mississippi’ into a set of unique characters.\n",
    "\n",
    "# Answer\n",
    "set1 = set('Mississippi')\n",
    "set(set1)"
   ]
  },
  {
   "cell_type": "code",
   "execution_count": null,
   "metadata": {},
   "outputs": [],
   "source": [
    "# 32.\t{1,2,3,4} Is this a set?\n",
    "# Answer: No, it is not a set\n",
    "a = {1,2,3,4}\n",
    "\n",
    "# I was wrong, that is a set!\n",
    "type(a)\n"
   ]
  },
  {
   "cell_type": "code",
   "execution_count": null,
   "metadata": {},
   "outputs": [],
   "source": [
    "# 33.\tWhat method do you use to add an element to a string?\n",
    "# Answer: join\n",
    "\n",
    "#str2 = \"strin\"\n",
    "str1 = join(\"string\",\"g\")\n",
    "str1\n",
    "\n",
    "# Doubt: Don't understand the question and/or how to use the join method"
   ]
  },
  {
   "cell_type": "code",
   "execution_count": null,
   "metadata": {},
   "outputs": [],
   "source": [
    "# 34.\tWhat is the result of: set ([1,2,2,3])\n",
    "\n",
    "# a.\tAn error\n",
    "# b.\t[1,2,3]\n",
    "# c.\t{1,2,2,3}\n",
    "# d.\t{1,2,3}\n",
    "s= set ([1,2,2,3])\n",
    "s\n",
    "# Answer: d {1,2,3} - unique values"
   ]
  },
  {
   "cell_type": "code",
   "execution_count": null,
   "metadata": {},
   "outputs": [],
   "source": [
    "35.\tWhat is the output of following lines of code? What would the length be?\n",
    "# a = [1, 2, 2, 3, 3, 3, 4, 4, 4, 4]\n",
    "# b = set(a)\n",
    "# print(len(a) - len(b))\n",
    "\n",
    "# Answer: 10-4 = 6"
   ]
  },
  {
   "cell_type": "code",
   "execution_count": null,
   "metadata": {},
   "outputs": [],
   "source": [
    "# 36.\tConsider:\n",
    "# a = [1, 2, 2, 3, 3, 3, 4, 4, 4, 4]\n",
    "# b = set(a)\n",
    "# b.add(5)\n",
    "# b.pop()\n",
    "\n",
    "# After executing this code, will the number 5 be a part of the set b?\n",
    "\n",
    "# Answer: No\n",
    "\n",
    "a = [1, 2, 2, 3, 3, 3, 4, 4, 4, 4]\n",
    "b = set(a)\n",
    "print(a)\n",
    "print(b)\n",
    "b.add(5)\n",
    "print(b)\n",
    "b.pop()\n",
    "print(b)\n",
    "\n",
    "# Doubt: In Q #21 it popped the last value, but in this case it popped the first value.\n",
    "# I understand that sets are not ordered list - so does that mean the removal of value is always random?"
   ]
  },
  {
   "cell_type": "code",
   "execution_count": null,
   "metadata": {},
   "outputs": [],
   "source": [
    "# 37.\tDefine a Dictionary, population,\n",
    "# that provides information\n",
    "# on the world's largest cities.\n",
    "# The key is the name of a city\n",
    "# (a string), and the associated\n",
    "# value is its population in\n",
    "# millions of people.\n",
    "\n",
    "#   Key     |   Value\n",
    "# Shanghai  |   17.8\n",
    "# Istanbul  |   13.3\n",
    "# Karachi   |   13.0\n",
    "# Mumbai    |   12.5\n",
    "\n",
    "city_dict = {\"Shanghai\":17.8, \"Istanbul\":13.3, \"Karachi\":13.0, \"Mumbai\":12.5}\n",
    "city_dict"
   ]
  },
  {
   "cell_type": "code",
   "execution_count": null,
   "metadata": {},
   "outputs": [],
   "source": []
  }
 ],
 "metadata": {
  "kernelspec": {
   "display_name": "Python 3",
   "language": "python",
   "name": "python3"
  },
  "language_info": {
   "codemirror_mode": {
    "name": "ipython",
    "version": 3
   },
   "file_extension": ".py",
   "mimetype": "text/x-python",
   "name": "python",
   "nbconvert_exporter": "python",
   "pygments_lexer": "ipython3",
   "version": "3.7.6"
  }
 },
 "nbformat": 4,
 "nbformat_minor": 4
}
