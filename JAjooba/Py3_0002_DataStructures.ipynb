{
 "cells": [
  {
   "cell_type": "code",
   "execution_count": null,
   "metadata": {},
   "outputs": [],
   "source": [
    "# NOTE: Lists are defined inside square brackets - are mutable\n",
    "# NOTE: Dictionaries are defined inside curly brackets with key:value pairs\n",
    "# NOTE: Tuples are defined inside round brackets - are immutable\n",
    "# NOTE: Sets are defined as set() - can only have unique values; unordered"
   ]
  },
  {
   "cell_type": "code",
   "execution_count": 7,
   "metadata": {},
   "outputs": [
    {
     "data": {
      "text/plain": [
       "['apple', 'orange', 'banana', 1, 2, 13, 2.25, 3.35, 4.45]"
      ]
     },
     "execution_count": 7,
     "metadata": {},
     "output_type": "execute_result"
    }
   ],
   "source": [
    "# List Data Type\n",
    "my_list1 = [\"apple\",\"orange\",\"banana\",1,2,13,2.25,3.35,4.45]\n",
    "my_list1"
   ]
  },
  {
   "cell_type": "code",
   "execution_count": 25,
   "metadata": {},
   "outputs": [
    {
     "name": "stdout",
     "output_type": "stream",
     "text": [
      "banana\n",
      "13\n",
      "['banana', 1, 2, 13, 2.25, 3.35, 4.45]\n",
      "['banana', 13, 4.45]\n",
      "['apple', 2, 4.45]\n"
     ]
    },
    {
     "data": {
      "text/plain": [
       "9"
      ]
     },
     "execution_count": 25,
     "metadata": {},
     "output_type": "execute_result"
    }
   ],
   "source": [
    "print(my_list1[2])\n",
    "print(my_list1[5])\n",
    "print(my_list1[2:])\n",
    "print(my_list1[2:9:3])\n",
    "print(my_list1[0:9:4])\n",
    "len(my_list1)"
   ]
  },
  {
   "cell_type": "code",
   "execution_count": 44,
   "metadata": {},
   "outputs": [
    {
     "name": "stdout",
     "output_type": "stream",
     "text": [
      "['apple', 'orange', 'banana', 1, 2, 13, 2.25, 3.35, 4.45, 'red', 'black', 'purple']\n"
     ]
    }
   ],
   "source": [
    "my_list2 = [\"red\",\"black\",\"purple\"]\n",
    "combo_list1 = my_list1 + my_list2\n",
    "print(combo_list1)"
   ]
  },
  {
   "cell_type": "code",
   "execution_count": 45,
   "metadata": {},
   "outputs": [
    {
     "name": "stdout",
     "output_type": "stream",
     "text": [
      "Original List = ['apple', 'orange', 'banana', 1, 2, 13, 2.25, 3.35, 4.45, 'red', 'black', 'purple']\n",
      "Updated List = ['apple', 'orange', 'peach', 1, 2, 13, 2.25, 3.35, 4.45, 'red', 'black', 'purple']\n"
     ]
    }
   ],
   "source": [
    "# Replacing elements in the list by position\n",
    "# this is possible as lists a mutable (can be changed)\n",
    "print(f\"Original List = {combo_list1}\")\n",
    "combo_list1[2]=\"peach\"\n",
    "print(\"Updated List = {}\".format(combo_list1))"
   ]
  },
  {
   "cell_type": "code",
   "execution_count": 46,
   "metadata": {},
   "outputs": [
    {
     "name": "stdout",
     "output_type": "stream",
     "text": [
      "Appended List = ['apple', 'orange', 'peach', 1, 2, 13, 2.25, 3.35, 4.45, 'red', 'black', 'purple', 'grey']\n",
      "Popped (empty) List = ['apple', 'orange', 'peach', 1, 2, 13, 2.25, 3.35, 4.45, 'red', 'black', 'purple']\n",
      "Popped (index) List = ['apple', 'orange', 'peach', 2, 13, 2.25, 3.35, 4.45, 'red', 'black', 'purple']\n"
     ]
    }
   ],
   "source": [
    "# list extensions\n",
    "combo_list1.append(\"grey\")\n",
    "print(f\"Appended List = {combo_list1}\")\n",
    "combo_list1.pop()\n",
    "print(f\"Popped (empty) List = {combo_list1}\")\n",
    "combo_list1.pop(3)\n",
    "print(f\"Popped (index) List = {combo_list1}\")"
   ]
  },
  {
   "cell_type": "code",
   "execution_count": 54,
   "metadata": {},
   "outputs": [
    {
     "name": "stdout",
     "output_type": "stream",
     "text": [
      "Original List2 = ['z', 'b', 'y', 'p', 't', 'x']\n",
      "Original List3 = [99, 34, 3000, 3, 25, 78, 100, 3999]\n",
      "Sorted List2 = ['b', 'p', 't', 'x', 'y', 'z']\n",
      "Sorted List3 = [3, 25, 34, 78, 99, 100, 3000, 3999]\n",
      "Total list is ['b', 'p', 't', 'x', 'y', 'z', 3, 25, 34, 78, 99, 100, 3000, 3999]\n"
     ]
    },
    {
     "ename": "TypeError",
     "evalue": "'<' not supported between instances of 'int' and 'str'",
     "output_type": "error",
     "traceback": [
      "\u001b[1;31m---------------------------------------------------------------------------\u001b[0m",
      "\u001b[1;31mTypeError\u001b[0m                                 Traceback (most recent call last)",
      "\u001b[1;32m<ipython-input-54-c4e3d1957a34>\u001b[0m in \u001b[0;36m<module>\u001b[1;34m\u001b[0m\n\u001b[0;32m     13\u001b[0m \u001b[0mprint\u001b[0m\u001b[1;33m(\u001b[0m\u001b[1;34mf\"Total list is {total_list}\"\u001b[0m\u001b[1;33m)\u001b[0m\u001b[1;33m\u001b[0m\u001b[1;33m\u001b[0m\u001b[0m\n\u001b[0;32m     14\u001b[0m \u001b[1;31m# the following doesn't work. seems like sorting doesn't work with str and int together!?\u001b[0m\u001b[1;33m\u001b[0m\u001b[1;33m\u001b[0m\u001b[1;33m\u001b[0m\u001b[0m\n\u001b[1;32m---> 15\u001b[1;33m \u001b[0mtotal_list\u001b[0m\u001b[1;33m.\u001b[0m\u001b[0msort\u001b[0m\u001b[1;33m(\u001b[0m\u001b[1;33m)\u001b[0m\u001b[1;33m\u001b[0m\u001b[1;33m\u001b[0m\u001b[0m\n\u001b[0m\u001b[0;32m     16\u001b[0m \u001b[0mtotal_sorted_list\u001b[0m \u001b[1;33m=\u001b[0m \u001b[0mtotal_list\u001b[0m\u001b[1;33m\u001b[0m\u001b[1;33m\u001b[0m\u001b[0m\n\u001b[0;32m     17\u001b[0m \u001b[0mprint\u001b[0m\u001b[1;33m(\u001b[0m\u001b[1;34mf\"Total combined list, after sorting is {total_sorted_list}\"\u001b[0m\u001b[1;33m)\u001b[0m\u001b[1;33m\u001b[0m\u001b[1;33m\u001b[0m\u001b[0m\n",
      "\u001b[1;31mTypeError\u001b[0m: '<' not supported between instances of 'int' and 'str'"
     ]
    }
   ],
   "source": [
    "# list extensions, contd...\n",
    "combo_list2 = [\"z\",\"b\",\"y\",\"p\",\"t\",\"x\"]\n",
    "combo_list3 = [99,34,3000,3,25,78,100,3999]\n",
    "print(f\"Original List2 = {combo_list2}\")\n",
    "print(f\"Original List3 = {combo_list3}\")\n",
    "combo_list2.sort()\n",
    "combo_list3.sort()\n",
    "print(f\"Sorted List2 = {combo_list2}\")\n",
    "print(f\"Sorted List3 = {combo_list3}\")\n",
    "type(combo_list2)\n",
    "type(combo_list3)\n",
    "total_list = combo_list2 + combo_list3\n",
    "print(f\"Total list is {total_list}\")\n",
    "# the following doesn't work. seems like sorting doesn't work with str and int together!?\n",
    "# Will test this type of sorting with a new list\n",
    "total_list.sort()\n",
    "total_sorted_list = total_list\n",
    "print(f\"Total combined list, after sorting is {total_sorted_list}\")"
   ]
  },
  {
   "cell_type": "code",
   "execution_count": 67,
   "metadata": {},
   "outputs": [
    {
     "ename": "TypeError",
     "evalue": "'<' not supported between instances of 'int' and 'str'",
     "output_type": "error",
     "traceback": [
      "\u001b[1;31m---------------------------------------------------------------------------\u001b[0m",
      "\u001b[1;31mTypeError\u001b[0m                                 Traceback (most recent call last)",
      "\u001b[1;32m<ipython-input-67-e9c50300471e>\u001b[0m in \u001b[0;36m<module>\u001b[1;34m\u001b[0m\n\u001b[0;32m      1\u001b[0m \u001b[1;31m# sorting a mixed type list\u001b[0m\u001b[1;33m\u001b[0m\u001b[1;33m\u001b[0m\u001b[1;33m\u001b[0m\u001b[0m\n\u001b[0;32m      2\u001b[0m \u001b[0mmixed_list\u001b[0m \u001b[1;33m=\u001b[0m \u001b[1;33m[\u001b[0m\u001b[1;34m\"z\"\u001b[0m\u001b[1;33m,\u001b[0m\u001b[1;34m\"b\"\u001b[0m\u001b[1;33m,\u001b[0m\u001b[1;34m\"y\"\u001b[0m\u001b[1;33m,\u001b[0m\u001b[1;34m\"p\"\u001b[0m\u001b[1;33m,\u001b[0m\u001b[1;34m\"t\"\u001b[0m\u001b[1;33m,\u001b[0m\u001b[1;34m\"x\"\u001b[0m\u001b[1;33m,\u001b[0m \u001b[1;36m99\u001b[0m\u001b[1;33m,\u001b[0m\u001b[1;36m34\u001b[0m\u001b[1;33m,\u001b[0m\u001b[1;36m30.00\u001b[0m\u001b[1;33m,\u001b[0m\u001b[1;36m3\u001b[0m\u001b[1;33m,\u001b[0m\u001b[1;36m2.5\u001b[0m\u001b[1;33m,\u001b[0m\u001b[1;36m78\u001b[0m\u001b[1;33m,\u001b[0m\u001b[1;36m100\u001b[0m\u001b[1;33m,\u001b[0m\u001b[1;36m3999\u001b[0m\u001b[1;33m]\u001b[0m\u001b[1;33m\u001b[0m\u001b[1;33m\u001b[0m\u001b[0m\n\u001b[1;32m----> 3\u001b[1;33m \u001b[0mmixed_list\u001b[0m\u001b[1;33m.\u001b[0m\u001b[0msort\u001b[0m\u001b[1;33m(\u001b[0m\u001b[1;33m)\u001b[0m\u001b[1;33m\u001b[0m\u001b[1;33m\u001b[0m\u001b[0m\n\u001b[0m\u001b[0;32m      4\u001b[0m \u001b[0mprint\u001b[0m\u001b[1;33m(\u001b[0m\u001b[1;34mf\"Sorting mixed type list as {mixed_list}\"\u001b[0m\u001b[1;33m)\u001b[0m\u001b[1;33m\u001b[0m\u001b[1;33m\u001b[0m\u001b[0m\n",
      "\u001b[1;31mTypeError\u001b[0m: '<' not supported between instances of 'int' and 'str'"
     ]
    }
   ],
   "source": [
    "# sorting a mixed type list\n",
    "mixed_list = [\"z\",\"b\",\"y\",\"p\",\"t\",\"x\", 99,34,30.00,3,2.5,78,100,3999]\n",
    "mixed_list.sort()\n",
    "print(f\"Sorting mixed type list as {mixed_list}\")"
   ]
  },
  {
   "cell_type": "code",
   "execution_count": 71,
   "metadata": {},
   "outputs": [
    {
     "name": "stdout",
     "output_type": "stream",
     "text": [
      "Sorting mixed type list as ['100', '2.5', '3', '30.0', '34', '3999', '78', '99', 'b', 'p', 't', 'x', 'y', 'z']\n"
     ]
    },
    {
     "ename": "ValueError",
     "evalue": "invalid literal for int() with base 10: 'z'",
     "output_type": "error",
     "traceback": [
      "\u001b[1;31m---------------------------------------------------------------------------\u001b[0m",
      "\u001b[1;31mValueError\u001b[0m                                Traceback (most recent call last)",
      "\u001b[1;32m<ipython-input-71-93f37898cfa4>\u001b[0m in \u001b[0;36m<module>\u001b[1;34m\u001b[0m\n\u001b[0;32m      5\u001b[0m \u001b[1;31m# Sorting mixed data type using \"cast\" - option2\u001b[0m\u001b[1;33m\u001b[0m\u001b[1;33m\u001b[0m\u001b[1;33m\u001b[0m\u001b[0m\n\u001b[0;32m      6\u001b[0m \u001b[1;31m# this will not work, b/c a number can be cast as a str, but not vice-versa\u001b[0m\u001b[1;33m\u001b[0m\u001b[1;33m\u001b[0m\u001b[1;33m\u001b[0m\u001b[0m\n\u001b[1;32m----> 7\u001b[1;33m \u001b[0mcast_list\u001b[0m \u001b[1;33m=\u001b[0m \u001b[1;33m[\u001b[0m\u001b[0mint\u001b[0m\u001b[1;33m(\u001b[0m\u001b[1;34m\"z\"\u001b[0m\u001b[1;33m)\u001b[0m\u001b[1;33m,\u001b[0m\u001b[0mint\u001b[0m\u001b[1;33m(\u001b[0m\u001b[1;34m\"b\"\u001b[0m\u001b[1;33m)\u001b[0m\u001b[1;33m,\u001b[0m \u001b[1;36m99\u001b[0m\u001b[1;33m,\u001b[0m\u001b[1;36m34\u001b[0m\u001b[1;33m,\u001b[0m\u001b[1;36m30.00\u001b[0m\u001b[1;33m,\u001b[0m\u001b[1;36m3\u001b[0m\u001b[1;33m,\u001b[0m\u001b[1;36m2.5\u001b[0m\u001b[1;33m,\u001b[0m\u001b[1;36m78\u001b[0m\u001b[1;33m,\u001b[0m\u001b[1;36m100\u001b[0m\u001b[1;33m,\u001b[0m\u001b[1;36m3999\u001b[0m\u001b[1;33m]\u001b[0m\u001b[1;33m\u001b[0m\u001b[1;33m\u001b[0m\u001b[0m\n\u001b[0m\u001b[0;32m      8\u001b[0m \u001b[0mcast_list\u001b[0m\u001b[1;33m.\u001b[0m\u001b[0msort\u001b[0m\u001b[1;33m(\u001b[0m\u001b[1;33m)\u001b[0m\u001b[1;33m\u001b[0m\u001b[1;33m\u001b[0m\u001b[0m\n\u001b[0;32m      9\u001b[0m \u001b[0mprint\u001b[0m\u001b[1;33m(\u001b[0m\u001b[1;34mf\"Sorting mixed type list as {mixed_list}\"\u001b[0m\u001b[1;33m)\u001b[0m\u001b[1;33m\u001b[0m\u001b[1;33m\u001b[0m\u001b[0m\n",
      "\u001b[1;31mValueError\u001b[0m: invalid literal for int() with base 10: 'z'"
     ]
    }
   ],
   "source": [
    "# Sorting mixed data type using \"cast\" - option1\n",
    "cast_list = [\"z\",\"b\",\"y\",\"p\",\"t\",\"x\", str(99),str(34),str(30.00),str(3),str(2.5),str(78),str(100),str(3999)]\n",
    "cast_list.sort()\n",
    "print(f\"Sorting mixed type list as {cast_list}\")\n",
    "# Sorting mixed data type using \"cast\" - option2\n",
    "# this will not work, b/c a number can be cast as a str, but not vice-versa\n",
    "cast_list = [int(\"z\"),int(\"b\"), 99,34,30.00,3,2.5,78,100,3999]\n",
    "cast_list.sort()\n",
    "print(f\"Sorting mixed type list as {mixed_list}\")"
   ]
  },
  {
   "cell_type": "code",
   "execution_count": null,
   "metadata": {},
   "outputs": [],
   "source": [
    "# reversing a list\n",
    "rev_list = [\"z\",\"b\",\"y\",\"p\",\"t\",\"x\", 99,34,30.00,3,2.5,78,100,3999]\n",
    "rev_list.reverse()\n",
    "print(f\"reversed list is {rev_list}\")"
   ]
  },
  {
   "cell_type": "code",
   "execution_count": null,
   "metadata": {},
   "outputs": [],
   "source": [
    "# Dictionaries\n",
    "dict1 = {\"color1\":\"red\", \"color2\":\"green\"}\n",
    "print(dict1)\n",
    "print(dict1[\"color2\"])"
   ]
  },
  {
   "cell_type": "code",
   "execution_count": 72,
   "metadata": {},
   "outputs": [
    {
     "data": {
      "text/plain": [
       "{22.22, 99, 'red'}"
      ]
     },
     "execution_count": 72,
     "metadata": {},
     "output_type": "execute_result"
    }
   ],
   "source": [
    "# dictionary display is sorted automatically?\n",
    "# and the dictionary sorting works with diff data types also?\n",
    "dict2 = {\"red\",99,22.22}\n",
    "dict2"
   ]
  },
  {
   "cell_type": "code",
   "execution_count": 86,
   "metadata": {},
   "outputs": [
    {
     "name": "stdout",
     "output_type": "stream",
     "text": [
      "{'key1': 'string1', 'key2': [20, 'z', 3.55], 'key3': {'insidekey3': 101}}\n",
      "{'insidekey3': 101}\n",
      "3.55\n",
      "101\n"
     ]
    }
   ],
   "source": [
    "# having more fun with dictionaries\n",
    "# a dictionary that has key/value pair, where the value can be a list or another (nested) dictionary\n",
    "d = {\"key1\":\"string1\", \"key2\":[20,\"z\",3.55], \"key3\":{\"insidekey3\":101}}\n",
    "print(d)\n",
    "print(d['key3'])\n",
    "print(d['key2'][2])\n",
    "print(d['key3']['insidekey3'])"
   ]
  },
  {
   "cell_type": "code",
   "execution_count": 88,
   "metadata": {},
   "outputs": [
    {
     "name": "stdout",
     "output_type": "stream",
     "text": [
      "{'key1': 'string1', 'key2': [20, 'z', 3.55], 'key3': {'insidekey3': 101}, 'key4': 'additional value'}\n"
     ]
    }
   ],
   "source": [
    "# appending a key to existing dict\n",
    "d[\"key4\"]=\"additional value\"\n",
    "print(d)"
   ]
  },
  {
   "cell_type": "code",
   "execution_count": 89,
   "metadata": {},
   "outputs": [
    {
     "name": "stdout",
     "output_type": "stream",
     "text": [
      "{'key1': 'string1', 'key2': [20, 'z', 3.55], 'key3': {'insidekey3': 101}, 'key4': 'changed additional value'}\n"
     ]
    }
   ],
   "source": [
    "# replacing a key in existing dict\n",
    "d[\"key4\"]=\"changed additional value\"\n",
    "print(d)"
   ]
  },
  {
   "cell_type": "code",
   "execution_count": 93,
   "metadata": {},
   "outputs": [
    {
     "name": "stdout",
     "output_type": "stream",
     "text": [
      "Dictionary d's keys are dict_keys(['key1', 'key2', 'key3', 'key4'])\n",
      "Dictionary d's values are dict_values(['string1', [20, 'z', 3.55], {'insidekey3': 101}, 'changed additional value'])\n",
      "Dictionary d's items are dict_items([('key1', 'string1'), ('key2', [20, 'z', 3.55]), ('key3', {'insidekey3': 101}), ('key4', 'changed additional value')])\n"
     ]
    }
   ],
   "source": [
    "# returning the keys and values in a dict\n",
    "print(f\"Dictionary d's keys are {d.keys()}\")\n",
    "print(f\"Dictionary d's values are {d.values()}\")\n",
    "print(f\"Dictionary d's items are {d.items()}\")"
   ]
  },
  {
   "cell_type": "code",
   "execution_count": 106,
   "metadata": {},
   "outputs": [
    {
     "name": "stdout",
     "output_type": "stream",
     "text": [
      "t is a <class 'tuple'> with length of 3 and values of (1, 2, 3)\n",
      "l is a <class 'list'> with length of 4 and values of [9.99, 'a', 'b', 'b']\n"
     ]
    }
   ],
   "source": [
    "# Starting Tuples now\n",
    "# NOTE: Lists are defined inside square brackets\n",
    "# NOTE: Dictionaries are defined inside curly brackets with key:value pairs\n",
    "# NOTE: Tuples are defined inside round brackets\n",
    "# NOTE: Sets are defined as set()\n",
    "t = (1,2,3)\n",
    "l = [9.99,\"a\",\"b\",\"b\"]\n",
    "typet = type(t)\n",
    "lent = len(t)\n",
    "typel = type(l)\n",
    "lenl = len(l)\n",
    "print(f\"t is a {typet} with length of {lent} and values of {t}\")\n",
    "print(f\"l is a {typel} with length of {lenl} and values of {l}\")"
   ]
  },
  {
   "cell_type": "code",
   "execution_count": 116,
   "metadata": {},
   "outputs": [
    {
     "name": "stdout",
     "output_type": "stream",
     "text": [
      "2\n",
      "0\n",
      "5\n"
     ]
    }
   ],
   "source": [
    "# Methods in Tuples\n",
    "t1 = (\"a\",\"b\",\"e\",\"a\",\"k\",\"z\")\n",
    "print(t1.count(\"a\"))\n",
    "print(t1.index(\"a\"))\n",
    "print(t1.index(\"z\"))"
   ]
  },
  {
   "cell_type": "code",
   "execution_count": 117,
   "metadata": {},
   "outputs": [
    {
     "ename": "TypeError",
     "evalue": "'tuple' object does not support item assignment",
     "output_type": "error",
     "traceback": [
      "\u001b[1;31m---------------------------------------------------------------------------\u001b[0m",
      "\u001b[1;31mTypeError\u001b[0m                                 Traceback (most recent call last)",
      "\u001b[1;32m<ipython-input-117-cdca87e87ae8>\u001b[0m in \u001b[0;36m<module>\u001b[1;34m\u001b[0m\n\u001b[0;32m      1\u001b[0m \u001b[1;31m# Replacing elements in the tuple by position is not possible\u001b[0m\u001b[1;33m\u001b[0m\u001b[1;33m\u001b[0m\u001b[1;33m\u001b[0m\u001b[0m\n\u001b[0;32m      2\u001b[0m \u001b[1;31m# this is because tuples are immutable (can be changed)\u001b[0m\u001b[1;33m\u001b[0m\u001b[1;33m\u001b[0m\u001b[1;33m\u001b[0m\u001b[0m\n\u001b[1;32m----> 3\u001b[1;33m \u001b[0mt1\u001b[0m\u001b[1;33m[\u001b[0m\u001b[1;36m2\u001b[0m\u001b[1;33m]\u001b[0m \u001b[1;33m=\u001b[0m \u001b[1;34m\"chg2\"\u001b[0m\u001b[1;33m\u001b[0m\u001b[1;33m\u001b[0m\u001b[0m\n\u001b[0m\u001b[0;32m      4\u001b[0m \u001b[0mt1\u001b[0m\u001b[1;33m\u001b[0m\u001b[1;33m\u001b[0m\u001b[0m\n",
      "\u001b[1;31mTypeError\u001b[0m: 'tuple' object does not support item assignment"
     ]
    }
   ],
   "source": [
    "# Replacing elements in the tuple by position is not possible\n",
    "# this is because tuples are immutable (can be changed)\n",
    "# the following will fail\n",
    "t1[2] = \"chg2\"\n",
    "t1"
   ]
  },
  {
   "cell_type": "code",
   "execution_count": 118,
   "metadata": {},
   "outputs": [
    {
     "name": "stdout",
     "output_type": "stream",
     "text": [
      "set()\n"
     ]
    }
   ],
   "source": [
    "# Now last thing is about sets\n",
    "set1 = set()\n",
    "print(set1)"
   ]
  },
  {
   "cell_type": "code",
   "execution_count": 125,
   "metadata": {},
   "outputs": [
    {
     "name": "stdout",
     "output_type": "stream",
     "text": [
      "{10}\n",
      "set()\n",
      "{10, 20, 30}\n"
     ]
    }
   ],
   "source": [
    "set1.add(10)\n",
    "print(set1)\n",
    "set1.clear()\n",
    "print(set1)\n",
    "# sets only take unique values\n",
    "set1.add(10)\n",
    "set1.add(10)\n",
    "set1.add(20)\n",
    "set1.add(30)\n",
    "print(set1)"
   ]
  },
  {
   "cell_type": "code",
   "execution_count": 131,
   "metadata": {},
   "outputs": [
    {
     "name": "stdout",
     "output_type": "stream",
     "text": [
      "{1, 2, 3, 4, 5, 6, 7, 9}\n",
      "{'p', 'c', 'a', 'z'}\n"
     ]
    }
   ],
   "source": [
    "# Defining a Tuple with repeating values\n",
    "# When that is converted to a set, only unqiue values remain\n",
    "t1 = (9,9,9,1,1,1,1,2,2,2,3,3,4,5,6,7,7,7,7,7)\n",
    "myset1 = set(t1)\n",
    "print(myset1)\n",
    "t2 = (\"z\",\"z\",\"a\",\"a\",\"a\",\"a\",\"a\",\"p\",\"p\",\"c\")\n",
    "myset2 = set(t2)\n",
    "print(myset2)"
   ]
  },
  {
   "cell_type": "code",
   "execution_count": null,
   "metadata": {},
   "outputs": [],
   "source": []
  }
 ],
 "metadata": {
  "kernelspec": {
   "display_name": "Python 3",
   "language": "python",
   "name": "python3"
  },
  "language_info": {
   "codemirror_mode": {
    "name": "ipython",
    "version": 3
   },
   "file_extension": ".py",
   "mimetype": "text/x-python",
   "name": "python",
   "nbconvert_exporter": "python",
   "pygments_lexer": "ipython3",
   "version": "3.7.6"
  }
 },
 "nbformat": 4,
 "nbformat_minor": 4
}
