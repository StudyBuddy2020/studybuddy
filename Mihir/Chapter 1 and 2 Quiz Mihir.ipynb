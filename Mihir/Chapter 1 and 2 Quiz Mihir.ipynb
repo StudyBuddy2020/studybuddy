{
 "cells": [
  {
   "cell_type": "markdown",
   "metadata": {},
   "source": [
    "# Chapter 1 and 2 Quiz: Mihir Bhosle"
   ]
  },
  {
   "cell_type": "markdown",
   "metadata": {},
   "source": [
    "#### Q1: Write an expression that equals to 200. For example, 100 + 100. Trying using more than one operator and submit only one line of code. "
   ]
  },
  {
   "cell_type": "code",
   "execution_count": 58,
   "metadata": {},
   "outputs": [
    {
     "data": {
      "text/plain": [
       "200.0"
      ]
     },
     "execution_count": 58,
     "metadata": {},
     "output_type": "execute_result"
    }
   ],
   "source": [
    "100 / 5 * 7 + 60"
   ]
  },
  {
   "cell_type": "markdown",
   "metadata": {},
   "source": [
    "#### My phone bill for the last three months has been \\\\$35, \\\\$40, and \\\\$54. What is the average monthly electricity bill over the three-month period? Write an expression to calculate the mean and use print () to view the result."
   ]
  },
  {
   "cell_type": "code",
   "execution_count": 59,
   "metadata": {},
   "outputs": [
    {
     "name": "stdout",
     "output_type": "stream",
     "text": [
      "The average bill for 3 months is 43.0\n"
     ]
    }
   ],
   "source": [
    "Total_Bill = 35 + 40 + 54 \n",
    "print(\"The average bill for 3 months is {}\".format(Total_Bill / 3))"
   ]
  },
  {
   "cell_type": "markdown",
   "metadata": {},
   "source": [
    "#### Q3: Which of these lines of Python code are well formatted? How would you improve the readability of the codes that don't use good formatting? (Choose all that apply)\n",
    "* print(((3+ 32))+ -15//2)\n",
    "* print((17 - 6)%(5 + 2))\n",
    "* print ((1 + 2 + 4) / 13)\n",
    "* print(4/2 - 7*7)\n"
   ]
  },
  {
   "cell_type": "code",
   "execution_count": 60,
   "metadata": {},
   "outputs": [
    {
     "name": "stdout",
     "output_type": "stream",
     "text": [
      "The second and third lines of Python code are well formatted. I would improve the\n",
      "readability of the other lines by adding and removing parenthesis.\n",
      "My idea of a well formatted line for these would be:print((3+32)+(-15//2))print((4/2)-(7*7))\n"
     ]
    }
   ],
   "source": [
    "print(\"The second and third lines of Python code are well formatted. I would improve the\")\n",
    "print(\"readability of the other lines by adding and removing parenthesis.\")\n",
    "print(\"My idea of a well formatted line for these would be:print((3+32)+(-15//2))print((4/2)-(7*7))\")"
   ]
  },
  {
   "cell_type": "markdown",
   "metadata": {},
   "source": [
    "### Now it is your turn to work with variables. The comments in this quiz (the lines that begin with #) have instructions for creating and modifying variables. After each comment write a line of code that implements the instruction."
   ]
  },
  {
   "cell_type": "markdown",
   "metadata": {},
   "source": [
    "#### Note that this code uses scientific notations to define large numbers. 4.445e8 is equal to 4.445 * 10 ** 8 which is equal to 444500000.0."
   ]
  },
  {
   "cell_type": "markdown",
   "metadata": {},
   "source": [
    "#### #The current volume of a water reservoir (in cubic metres)\n"
   ]
  },
  {
   "cell_type": "code",
   "execution_count": 61,
   "metadata": {},
   "outputs": [
    {
     "data": {
      "text/plain": [
       "444500000.0"
      ]
     },
     "execution_count": 61,
     "metadata": {},
     "output_type": "execute_result"
    }
   ],
   "source": [
    "reservoir_volume = 4.445e8\n",
    "reservoir_volume"
   ]
  },
  {
   "cell_type": "markdown",
   "metadata": {},
   "source": [
    "#### #The amount of rainfall from a storm (in cubic metres)\n"
   ]
  },
  {
   "cell_type": "code",
   "execution_count": 62,
   "metadata": {},
   "outputs": [
    {
     "data": {
      "text/plain": [
       "5000000.0"
      ]
     },
     "execution_count": 62,
     "metadata": {},
     "output_type": "execute_result"
    }
   ],
   "source": [
    "rainfall = 5e6\n",
    "rainfall"
   ]
  },
  {
   "cell_type": "markdown",
   "metadata": {},
   "source": [
    "#### Q4: #decrease the rainfall variable by 10% to account for runoff"
   ]
  },
  {
   "cell_type": "code",
   "execution_count": 63,
   "metadata": {},
   "outputs": [
    {
     "data": {
      "text/plain": [
       "4500000.0"
      ]
     },
     "execution_count": 63,
     "metadata": {},
     "output_type": "execute_result"
    }
   ],
   "source": [
    "runoff = rainfall*0.1\n",
    "rainfall = rainfall-runoff\n",
    "rainfall"
   ]
  },
  {
   "cell_type": "markdown",
   "metadata": {},
   "source": [
    "#### Q5: #add the rainfall variable to the reservoir_volume variable"
   ]
  },
  {
   "cell_type": "code",
   "execution_count": 64,
   "metadata": {},
   "outputs": [
    {
     "data": {
      "text/plain": [
       "449000000.0"
      ]
     },
     "execution_count": 64,
     "metadata": {},
     "output_type": "execute_result"
    }
   ],
   "source": [
    "reservoir_volume = reservoir_volume + rainfall\n",
    "reservoir_volume"
   ]
  },
  {
   "cell_type": "markdown",
   "metadata": {},
   "source": [
    "#### Q6: #increase reservoir_volume by 5% to account for stormwater that flows into the reservoir in the days following the storm"
   ]
  },
  {
   "cell_type": "code",
   "execution_count": 65,
   "metadata": {},
   "outputs": [
    {
     "data": {
      "text/plain": [
       "673500000.0"
      ]
     },
     "execution_count": 65,
     "metadata": {},
     "output_type": "execute_result"
    }
   ],
   "source": [
    "stormwater = reservoir_volume*0.5\n",
    "reservoir_volume = reservoir_volume + stormwater\n",
    "reservoir_volume"
   ]
  },
  {
   "cell_type": "markdown",
   "metadata": {},
   "source": [
    "#### Q7: #decrease reservoir_volume by 5% to account for evaporation"
   ]
  },
  {
   "cell_type": "code",
   "execution_count": 66,
   "metadata": {},
   "outputs": [
    {
     "data": {
      "text/plain": [
       "639825000.0"
      ]
     },
     "execution_count": 66,
     "metadata": {},
     "output_type": "execute_result"
    }
   ],
   "source": [
    "evaporation = reservoir_volume*.05\n",
    "reservoir_volume = reservoir_volume-evaporation\n",
    "reservoir_volume"
   ]
  },
  {
   "cell_type": "markdown",
   "metadata": {},
   "source": [
    "#### Q8: #subtract 2.5e5 cubic metres from reservoir_volume to account for water that's piped to arid regions."
   ]
  },
  {
   "cell_type": "code",
   "execution_count": 67,
   "metadata": {},
   "outputs": [
    {
     "data": {
      "text/plain": [
       "639575000.0"
      ]
     },
     "execution_count": 67,
     "metadata": {},
     "output_type": "execute_result"
    }
   ],
   "source": [
    "aridregionwater = 2.5e5\n",
    "reservoir_volume = reservoir_volume-aridregionwater\n",
    "reservoir_volume"
   ]
  },
  {
   "cell_type": "markdown",
   "metadata": {},
   "source": [
    "#### Q9: # print the new value of the reservoir_volume variable"
   ]
  },
  {
   "cell_type": "code",
   "execution_count": 68,
   "metadata": {},
   "outputs": [
    {
     "name": "stdout",
     "output_type": "stream",
     "text": [
      "639575000.0\n"
     ]
    }
   ],
   "source": [
    "print(reservoir_volume)"
   ]
  },
  {
   "cell_type": "markdown",
   "metadata": {},
   "source": [
    "### How does changing the value of a variable affect another variable that was defined in terms of it? Let's look at an example.\n",
    "We're intentionally not providing a place to execute the code here, because we want to help you practice the important skill of walking through lines of code by hand.\n",
    "Each line of code executes in order, one at a time, with control going from one line to the next.\n",
    "   > carrots = 24\n",
    "   \n",
    "   > rabbits = 8\n",
    "   \n",
    "   > crs_per_rab = carrots/rabbits\n",
    "\n",
    "\n",
    "Now we add a new 4th line to this code, that assigns a new value to the rabbits variable:\n",
    "   > rabbits = 12\n",
    "\n",
    "Q10: If we now add this new 5th line of code to the above, what will the output be?\n",
    "   > print(crs_per_rab) \n",
    "*\t0.5\n",
    "*\t2.o\n",
    "*\t3.0\n",
    "*\tNone of the above\n"
   ]
  },
  {
   "cell_type": "markdown",
   "metadata": {},
   "source": [
    "> Answer: 3.0"
   ]
  },
  {
   "cell_type": "markdown",
   "metadata": {},
   "source": [
    "#### Q11: Guess the correct output of following code.\n",
    "str1 = \"PYnative\"\n",
    "\n",
    "print(str1[1:4], str1[:5], str1[4:], str1[0:-1], str1[:-1])\n",
    "* PYn PYnat ive PYnativ vitanYP\n",
    "* Yna PYnat tive PYnativ vitanYP\n",
    "* Yna PYnat tive PYnativ PYnativ\n"
   ]
  },
  {
   "cell_type": "markdown",
   "metadata": {},
   "source": [
    "> Answer: Yna PYnat tive PYnativ PYnativ"
   ]
  },
  {
   "cell_type": "markdown",
   "metadata": {},
   "source": [
    "#### Q12: Python does not support a character type; a single character is treated as strings of length one.\n",
    "* False\n",
    "* True\n"
   ]
  },
  {
   "cell_type": "markdown",
   "metadata": {},
   "source": [
    "> Answer: True"
   ]
  },
  {
   "cell_type": "markdown",
   "metadata": {},
   "source": [
    "#### Q13: List all the python string methods with their definition. You can refer the internet for this. "
   ]
  },
  {
   "cell_type": "markdown",
   "metadata": {},
   "source": [
    "capitalize()\n",
    "Converts the first character to upper case\n",
    "\n",
    "casefold()\n",
    "Converts string into lower case\n",
    "\n",
    "center()\n",
    "Returns a centered string\n",
    "\n",
    "count()\n",
    "Returns the number of times a specified value occurs in a string\n",
    "\n",
    "encode()\n",
    "Returns an encoded version of the string\n",
    "\n",
    "endswith()\n",
    "Returns true if the string ends with the specified value\n",
    "\n",
    "expandtabs()\n",
    "Sets the tab size of the string\n",
    "\n",
    "find()\n",
    "Searches the string for a specified value and returns the position of where it was found\n",
    "\n",
    "format()\n",
    "Formats specified values in a string\n",
    "\n",
    "format_map()\n",
    "Formats specified values in a string\n",
    "\n",
    "index()\n",
    "Searches the string for a specified value and returns the position of where it was found\n",
    "\n",
    "isalnum()\n",
    "Returns True if all characters in the string are alphanumeric\n",
    "\n",
    "isalpha()\n",
    "Returns True if all characters in the string are in the alphabet\n",
    "\n",
    "isdecimal()\n",
    "Returns True if all characters in the string are decimals\n",
    "\n",
    "isdigit()\n",
    "Returns True if all characters in the string are digits\n",
    "\n",
    "isidentifier()\n",
    "Returns True if the string is an identifier\n",
    "\n",
    "islower()\n",
    "Returns True if all characters in the string are lower case\n",
    "\n",
    "isnumeric()\n",
    "Returns True if all characters in the string are numeric\n",
    "\n",
    "isprintable()\n",
    "Returns True if all characters in the string are printable\n",
    "\n",
    "isspace()\n",
    "Returns True if all characters in the string are whitespaces\n",
    "\n",
    "istitle()\n",
    "Returns True if the string follows the rules of a title\n",
    "\n",
    "isupper()\n",
    "Returns True if all characters in the string are upper case\n",
    "\n",
    "join()\n",
    "Joins the elements of an iterable to the end of the string\n",
    "\n",
    "ljust()\n",
    "Returns a left justified version of the string\n",
    "\n",
    "lower()\n",
    "Converts a string into lower case\n",
    "\n",
    "lstrip()\n",
    "Returns a left trim version of the string\n",
    "\n",
    "maketrans()\n",
    "Returns a translation table to be used in translations\n",
    "\n",
    "partition()\n",
    "Returns a tuple where the string is parted into three parts\n",
    "\n",
    "replace()\n",
    "Returns a string where a specified value is replaced with a specified value\n",
    "\n",
    "rfind()\n",
    "Searches the string for a specified value and returns the last position of where it was found\n",
    "\n",
    "rindex()\n",
    "Searches the string for a specified value and returns the last position of where it was found\n",
    "\n",
    "rjust()\n",
    "Returns a right justified version of the string\n",
    "\n",
    "rpartition()\n",
    "Returns a tuple where the string is parted into three parts\n",
    "\n",
    "rsplit()\n",
    "Splits the string at the specified separator, and returns a list\n",
    "\n",
    "rstrip()\n",
    "Returns a right trim version of the string\n",
    "\n",
    "split()\n",
    "Splits the string at the specified separator, and returns a list\n",
    "\n",
    "splitlines()\n",
    "Splits the string at line breaks and returns a list\n",
    "\n",
    "startswith()\n",
    "Returns true if the string starts with the specified value\n",
    "\n",
    "strip()\n",
    "Returns a trimmed version of the string\n",
    "\n",
    "swapcase()\n",
    "Swaps cases, lower case becomes upper case and vice versa\n",
    "\n",
    "title()\n",
    "Converts the first character of each word to upper case\n",
    "\n",
    "translate()\n",
    "Returns a translated string\n",
    "\n",
    "upper()\n",
    "Converts a string into upper case\n",
    "\n",
    "zfill()\n",
    "Fills the string with a specified number of 0 values at the beginning"
   ]
  },
  {
   "cell_type": "markdown",
   "metadata": {},
   "source": [
    "#### Q13: Write one line of code giving an example of indexing. For example ‘Hello World’[0] returns ‘H’. Make any two examples of your own one with normal indexing and other one with reverse indexing. "
   ]
  },
  {
   "cell_type": "code",
   "execution_count": 5,
   "metadata": {},
   "outputs": [
    {
     "name": "stdout",
     "output_type": "stream",
     "text": [
      "P\n",
      "o\n"
     ]
    }
   ],
   "source": [
    "print(\"Hello Python\"[6]) #This will print P which is at Index 6.\n",
    "print(\"Hello Python\"[-8])#This will print o which is at Reverse Index -8."
   ]
  },
  {
   "cell_type": "markdown",
   "metadata": {},
   "source": [
    "#### Q14: Reverse this ‘This is an easy quiz’ sentence without using string reverse method. "
   ]
  },
  {
   "cell_type": "code",
   "execution_count": 86,
   "metadata": {},
   "outputs": [
    {
     "data": {
      "text/plain": [
       "'ziuq ysae na si sihT'"
      ]
     },
     "execution_count": 86,
     "metadata": {},
     "output_type": "execute_result"
    }
   ],
   "source": [
    "strtoreverse = \"This is an easy quiz\"\n",
    "strtoreverse[::-1]"
   ]
  },
  {
   "cell_type": "markdown",
   "metadata": {},
   "source": [
    "#### Q15: Use slicing techniques with providing 4 different examples each one using different slicing techniques learned in the video."
   ]
  },
  {
   "cell_type": "code",
   "execution_count": 92,
   "metadata": {},
   "outputs": [
    {
     "name": "stdout",
     "output_type": "stream",
     "text": [
      "reverse:rihiM.\n",
      "Print hir:hir.\n"
     ]
    }
   ],
   "source": [
    "str15 = \"Mihir\"\n",
    "print(\"reverse:{}.\".format(str15[::-1]))\n",
    "\n",
    "print(\"Print hir:{}.\".format(str15[2:5:1]))"
   ]
  },
  {
   "cell_type": "markdown",
   "metadata": {},
   "source": [
    "#### Q16: Are strings immutable?"
   ]
  },
  {
   "cell_type": "markdown",
   "metadata": {},
   "source": [
    "Yes."
   ]
  },
  {
   "cell_type": "markdown",
   "metadata": {},
   "source": [
    "#### Q17: Change the name of the two strings from ‘Hero’ to ‘Zero’ using the slicing and string concatenation method. Use least lines of code as you can."
   ]
  },
  {
   "cell_type": "code",
   "execution_count": 10,
   "metadata": {},
   "outputs": [
    {
     "name": "stdout",
     "output_type": "stream",
     "text": [
      "Zero\n"
     ]
    }
   ],
   "source": [
    "print(\"Z\" + \"Hero\"[1:])\n"
   ]
  },
  {
   "cell_type": "markdown",
   "metadata": {},
   "source": [
    "#### Q18: Write two expressions using format() method and f-string method."
   ]
  },
  {
   "cell_type": "code",
   "execution_count": 17,
   "metadata": {},
   "outputs": [
    {
     "name": "stdout",
     "output_type": "stream",
     "text": [
      "Hello Mihir  my hero\n",
      "Hello Mihir  my hero\n"
     ]
    }
   ],
   "source": [
    "str18 = \"Mihir\"\n",
    "str181 = \" my hero\"\n",
    "print(\"Hello {} {}\".format(str18, str181 ))\n",
    "print(f\"Hello {str18} {str181}\")"
   ]
  },
  {
   "cell_type": "markdown",
   "metadata": {},
   "source": [
    "#### Q19: Write code to compare these densities. Is the population of San Francisco more dense than that of Rio de Janeiro? Print True if it is and False if not.\n",
    "\n",
    "> sf_population, sf_area = 864816, 231.89\n",
    "\n",
    "> rio_population, rio_area = 6453682, 486.5\n",
    "\n",
    "> san_francisco_pop_density = sf_population/sf_area\n",
    "\n",
    "> rio_de_janeiro_pop_density = rio_population/rio_area\n",
    "\n",
    "#Write code that prints True if San Francisco is denser than Rio, and False otherwise\n"
   ]
  },
  {
   "cell_type": "code",
   "execution_count": 21,
   "metadata": {},
   "outputs": [
    {
     "name": "stdout",
     "output_type": "stream",
     "text": [
      "False\n"
     ]
    }
   ],
   "source": [
    "sf_population, sf_area = 864816, 231.89\n",
    "rio_population, rio_area = 6453682, 486.5\n",
    "san_francisco_pop_density = sf_population/sf_area\n",
    "rio_de_janeiro_pop_density = rio_population/rio_area\n",
    "\n",
    "print(san_francisco_pop_density > rio_de_janeiro_pop_density)"
   ]
  },
  {
   "cell_type": "markdown",
   "metadata": {},
   "source": [
    "#### Q20: Give examples of all the datatypes you learned."
   ]
  },
  {
   "cell_type": "markdown",
   "metadata": {},
   "source": [
    "String, Float, Int."
   ]
  },
  {
   "cell_type": "markdown",
   "metadata": {},
   "source": [
    "#### Q21: What function do you use to find length of a string?"
   ]
  },
  {
   "cell_type": "code",
   "execution_count": 28,
   "metadata": {},
   "outputs": [
    {
     "data": {
      "text/plain": [
       "5"
      ]
     },
     "execution_count": 28,
     "metadata": {},
     "output_type": "execute_result"
    }
   ],
   "source": [
    "len(\"Mihir\") #The len() function is used to find the length of a string"
   ]
  },
  {
   "cell_type": "markdown",
   "metadata": {},
   "source": [
    "#### Q22: What type does this object have? \"hippo\" *12"
   ]
  },
  {
   "cell_type": "code",
   "execution_count": 31,
   "metadata": {},
   "outputs": [
    {
     "data": {
      "text/plain": [
       "str"
      ]
     },
     "execution_count": 31,
     "metadata": {},
     "output_type": "execute_result"
    }
   ],
   "source": [
    "type(\"hippo\"*12) #The type of this object is string."
   ]
  },
  {
   "cell_type": "markdown",
   "metadata": {},
   "source": [
    "#### Q23: Create an example of list, with mixed data types. The answer should be just one line of code. "
   ]
  },
  {
   "cell_type": "code",
   "execution_count": 32,
   "metadata": {},
   "outputs": [
    {
     "data": {
      "text/plain": [
       "[123, 123.1, 'abc']"
      ]
     },
     "execution_count": 32,
     "metadata": {},
     "output_type": "execute_result"
    }
   ],
   "source": [
    "[123, 123.10, \"abc\"]"
   ]
  },
  {
   "cell_type": "markdown",
   "metadata": {},
   "source": [
    "#### Q24: If list1 = [1,2,3,4,5]. What is the output of list1.pop ()? And what would be the result of list1[1:]?"
   ]
  },
  {
   "cell_type": "code",
   "execution_count": 37,
   "metadata": {},
   "outputs": [
    {
     "name": "stdout",
     "output_type": "stream",
     "text": [
      "5\n",
      "[2, 3, 4]\n"
     ]
    }
   ],
   "source": [
    "list1 = [1,2,3,4,5]\n",
    "print(list1.pop()) #The result of list1.pop () is 5\n",
    "print(list1[1:]) #The result of list1[1:] is [2, 3, 4]"
   ]
  },
  {
   "cell_type": "markdown",
   "metadata": {},
   "source": [
    "#### Q25: Create a Dictionary where all the keys are strings and values are integers."
   ]
  },
  {
   "cell_type": "code",
   "execution_count": 39,
   "metadata": {},
   "outputs": [
    {
     "name": "stdout",
     "output_type": "stream",
     "text": [
      "{'a': 1, 'b': 2, 'c': 3}\n"
     ]
    }
   ],
   "source": [
    "dict25 = {\"a\":1, \"b\":2, \"c\":3}\n",
    "print(dict25)"
   ]
  },
  {
   "cell_type": "markdown",
   "metadata": {},
   "source": [
    "#### Q26: Create a dictionary within a dictionary and write the code to find the values in the inside dictionary. "
   ]
  },
  {
   "cell_type": "code",
   "execution_count": 1,
   "metadata": {},
   "outputs": [
    {
     "name": "stdout",
     "output_type": "stream",
     "text": [
      "the value of key1 is {'key2': 'hello', 'key3': 'world'}\n",
      "the value of key 4 is Mihir\n"
     ]
    }
   ],
   "source": [
    "dict26 = {\n",
    "\"key1\": {\"key2\":\"hello\", \"key3\":\"world\"} ,\n",
    "\"key4\": \"Mihir\" \n",
    "}\n",
    "\n",
    "print(f\"the value of key1 is {dict26['key1']}\")\n",
    "print(\"the value of key 4 is {}\".format(dict26[\"key4\"]))"
   ]
  },
  {
   "cell_type": "markdown",
   "metadata": {},
   "source": [
    "#### Q27: Do dictionaries retain order and are they a sequence?"
   ]
  },
  {
   "cell_type": "markdown",
   "metadata": {},
   "source": [
    "Dictionaries do not retain order but they are sequences."
   ]
  },
  {
   "cell_type": "markdown",
   "metadata": {},
   "source": [
    "#### Q28: Given d = { ‘k1’:[1,2,3]}. What is the output of d[‘k1’][3]?"
   ]
  },
  {
   "cell_type": "markdown",
   "metadata": {},
   "source": [
    "The output of d[‘k1’][3] is an error \"IndexError: list index out of range\" because there is no element at index 3 in the list [1,2,3].\n"
   ]
  },
  {
   "cell_type": "markdown",
   "metadata": {},
   "source": [
    "#### Q29: Are dictionaries immutable?"
   ]
  },
  {
   "cell_type": "markdown",
   "metadata": {},
   "source": [
    "No, they are mutable."
   ]
  },
  {
   "cell_type": "markdown",
   "metadata": {},
   "source": [
    "#### Q30: Do tuples have lots of methods associated with them?"
   ]
  },
  {
   "cell_type": "markdown",
   "metadata": {},
   "source": [
    "No, they only have two methods; count() and index()."
   ]
  },
  {
   "cell_type": "markdown",
   "metadata": {},
   "source": [
    "#### Q31: When is the best time to use tuples over lists?"
   ]
  },
  {
   "cell_type": "markdown",
   "metadata": {},
   "source": [
    "When you need more methods."
   ]
  },
  {
   "cell_type": "markdown",
   "metadata": {},
   "source": [
    "#### Q32: Are tuples immutable?"
   ]
  },
  {
   "cell_type": "markdown",
   "metadata": {},
   "source": [
    "Yes."
   ]
  },
  {
   "cell_type": "markdown",
   "metadata": {},
   "source": [
    "#### Q33: Which of the following is a tuple? \n",
    "\n",
    "*\t[1,2,3]\n",
    "*\t(1,2,[1,2,3])\n",
    "*\t{1,2,4,)\n",
    "*\tNone of the above?\n"
   ]
  },
  {
   "cell_type": "markdown",
   "metadata": {},
   "source": [
    "(1,2,[1,2,3])"
   ]
  },
  {
   "cell_type": "markdown",
   "metadata": {},
   "source": [
    "#### Q34: Write an expression to turn the string ‘Mississippi’ into a set of unique characters."
   ]
  },
  {
   "cell_type": "code",
   "execution_count": 8,
   "metadata": {},
   "outputs": [
    {
     "data": {
      "text/plain": [
       "{'i', 'm', 'p', 's'}"
      ]
     },
     "execution_count": 8,
     "metadata": {},
     "output_type": "execute_result"
    }
   ],
   "source": [
    "set(\"mississippi\")"
   ]
  },
  {
   "cell_type": "markdown",
   "metadata": {},
   "source": [
    "#### Q35: {1,2,3,4} Is this a set?"
   ]
  },
  {
   "cell_type": "markdown",
   "metadata": {},
   "source": [
    "Yes."
   ]
  },
  {
   "cell_type": "markdown",
   "metadata": {},
   "source": [
    "#### Q36: What method do you use to add an element to a string?"
   ]
  },
  {
   "cell_type": "markdown",
   "metadata": {},
   "source": [
    "Concatenation using + operator, using format, and using f-string."
   ]
  },
  {
   "cell_type": "markdown",
   "metadata": {},
   "source": [
    "#### Q37: What is the result of: set ([1,2,2,3])\n",
    "\n",
    "*\tAn error\n",
    "*\t[1,2,3]\n",
    "*\t{1,2,2,3}\n",
    "*\t{1,2,3}\n"
   ]
  },
  {
   "cell_type": "code",
   "execution_count": 9,
   "metadata": {},
   "outputs": [
    {
     "data": {
      "text/plain": [
       "{1, 2, 3}"
      ]
     },
     "execution_count": 9,
     "metadata": {},
     "output_type": "execute_result"
    }
   ],
   "source": [
    "set([1,2,2,3])"
   ]
  },
  {
   "cell_type": "markdown",
   "metadata": {},
   "source": [
    "#### Q38: What is the output of following lines of code? What would the length be?\n",
    "* a = [1, 2, 2, 3, 3, 3, 4, 4, 4, 4]\n",
    "* b = set(a)\n",
    "* print(len(a) - len(b))"
   ]
  },
  {
   "cell_type": "code",
   "execution_count": 5,
   "metadata": {},
   "outputs": [
    {
     "name": "stdout",
     "output_type": "stream",
     "text": [
      "6\n"
     ]
    }
   ],
   "source": [
    "a = [1, 2, 2, 3, 3, 3, 4, 4, 4, 4]\n",
    "b = set(a)\n",
    "print(len(a) - len(b))"
   ]
  },
  {
   "cell_type": "markdown",
   "metadata": {},
   "source": [
    "#### Q39: Consider:\n",
    "> a = [1, 2, 2, 3, 3, 3, 4, 4, 4, 4]\n",
    "\n",
    "> b = set(a)\n",
    "\n",
    "> b.add(5)\n",
    "\n",
    "> b.pop()\n",
    "\n",
    "\n",
    "After executing this code, will the number 5 be a part of the set b?"
   ]
  },
  {
   "cell_type": "code",
   "execution_count": 14,
   "metadata": {},
   "outputs": [
    {
     "name": "stdout",
     "output_type": "stream",
     "text": [
      "{1, 2, 3, 4}\n",
      "{1, 2, 3, 4, 5}\n"
     ]
    },
    {
     "data": {
      "text/plain": [
       "{2, 3, 4, 5}"
      ]
     },
     "execution_count": 14,
     "metadata": {},
     "output_type": "execute_result"
    }
   ],
   "source": [
    "a = [1, 2, 2, 3, 3, 3, 4, 4, 4, 4]\n",
    "b = set(a)\n",
    "print(b)\n",
    "b.add(5)\n",
    "print(b)\n",
    "b.pop()\n",
    "b"
   ]
  },
  {
   "cell_type": "markdown",
   "metadata": {},
   "source": [
    "#### Q40: Define a Dictionary, population, that provides information on the world's largest cities. The key is the name of a city (a string), and the associated value is its population in millions of people.\n",
    "\n",
    "   Key     |   Value\n",
    "   ---|---\n",
    " Shanghai  |   17.8\n",
    " Istanbul  |   13.3\n",
    " Karachi   |   13.0\n",
    " Mumbai    |   12.5\n"
   ]
  },
  {
   "cell_type": "code",
   "execution_count": 20,
   "metadata": {},
   "outputs": [
    {
     "name": "stdout",
     "output_type": "stream",
     "text": [
      "{'Shanghai': 17.8, 'Istanbul': 13.3, 'Karachi': 13.0, 'Mumbai': 12.5}\n"
     ]
    }
   ],
   "source": [
    "dictPopulation = {\"Shanghai\":17.8, \"Istanbul\":13.3, \"Karachi\":13.0, \"Mumbai\":12.5}\n",
    "print(dictPopulation)"
   ]
  },
  {
   "cell_type": "markdown",
   "metadata": {},
   "source": [
    "## You can always find more questions online and try to attempt those too. I tried keeping it basic and less questions. But try finding more quizzes online and try to solve those!  "
   ]
  }
 ],
 "metadata": {
  "kernelspec": {
   "display_name": "Python 3",
   "language": "python",
   "name": "python3"
  },
  "language_info": {
   "codemirror_mode": {
    "name": "ipython",
    "version": 3
   },
   "file_extension": ".py",
   "mimetype": "text/x-python",
   "name": "python",
   "nbconvert_exporter": "python",
   "pygments_lexer": "ipython3",
   "version": "3.7.6"
  }
 },
 "nbformat": 4,
 "nbformat_minor": 4
}
