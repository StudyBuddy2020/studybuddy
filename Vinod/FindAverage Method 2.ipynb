{
 "cells": [
  {
   "cell_type": "code",
   "execution_count": 3,
   "metadata": {},
   "outputs": [
    {
     "name": "stdout",
     "output_type": "stream",
     "text": [
      "The average bill is:  43.0\n",
      "enter the no of elements to be inserted :3\n",
      "enter element:35\n",
      "enter element:40\n",
      "enter element:54\n",
      "average of elements in the list 43.0\n"
     ]
    }
   ],
   "source": [
    "#Program to find avg\n",
    "n= int(input(\"enter the no of elements to be inserted :\"))\n",
    "a=[]\n",
    "for i in range (0,n):\n",
    "    elem = int(input(\"enter element:\"))\n",
    "    a.append(elem)\n",
    "avg=(sum(a)/n)\n",
    "print(\"average of elements in the list\",round(avg,2))"
   ]
  }
 ],
 "metadata": {
  "kernelspec": {
   "display_name": "Python 3",
   "language": "python",
   "name": "python3"
  },
  "language_info": {
   "codemirror_mode": {
    "name": "ipython",
    "version": 3
   },
   "file_extension": ".py",
   "mimetype": "text/x-python",
   "name": "python",
   "nbconvert_exporter": "python",
   "pygments_lexer": "ipython3",
   "version": "3.7.6"
  }
 },
 "nbformat": 4,
 "nbformat_minor": 4
}
